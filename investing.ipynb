{
 "cells": [
  {
   "cell_type": "markdown",
   "id": "39ac5e8a-6efe-4ef6-9dfc-7f152d0890fd",
   "metadata": {},
   "source": [
    "Para instalar el módulo: \"pip install investpy\" - Última versión a 2/1/2022 es la 1.0.7"
   ]
  },
  {
   "cell_type": "markdown",
   "id": "17d46864-5d26-4920-b984-eee49b70b8da",
   "metadata": {},
   "source": [
    "https://investpy.readthedocs.io/index.html"
   ]
  },
  {
   "cell_type": "code",
   "execution_count": 1,
   "id": "15efec8d-532f-4c81-b062-a358d4564226",
   "metadata": {},
   "outputs": [],
   "source": [
    "import investpy as inv"
   ]
  },
  {
   "cell_type": "markdown",
   "id": "69db9245-c71b-4d95-9e5e-7aab0a885bd0",
   "metadata": {},
   "source": [
    "-------------------- ACCIONES --------------------------"
   ]
  },
  {
   "cell_type": "code",
   "execution_count": 6,
   "id": "a54f9f2c-2c4a-4f43-8740-b965bd076a3b",
   "metadata": {},
   "outputs": [],
   "source": [
    "df = inv.get_stock_historical_data(stock='AAPL',\n",
    "                                        country='United States',\n",
    "                                        from_date='01/01/2010',\n",
    "                                        to_date='01/01/2020')"
   ]
  },
  {
   "cell_type": "code",
   "execution_count": 4,
   "id": "157fe698-beec-435d-9122-6f35791d0f78",
   "metadata": {},
   "outputs": [
    {
     "name": "stdout",
     "output_type": "stream",
     "text": [
      "            Open  High   Low  Close     Volume Currency\n",
      "Date                                                   \n",
      "2010-01-04  7.62  7.66  7.58   7.64  493728704      USD\n",
      "2010-01-05  7.66  7.70  7.62   7.66  601904640      USD\n",
      "2010-01-06  7.66  7.69  7.53   7.53  552158912      USD\n",
      "2010-01-07  7.56  7.57  7.47   7.52  477129760      USD\n",
      "2010-01-08  7.51  7.57  7.47   7.57  447876768      USD\n"
     ]
    }
   ],
   "source": [
    "print(df.head())"
   ]
  },
  {
   "cell_type": "code",
   "execution_count": 14,
   "id": "dbed3182-07b3-454c-a856-79bc84acac62",
   "metadata": {},
   "outputs": [
    {
     "data": {
      "text/plain": [
       "pandas.core.frame.DataFrame"
      ]
     },
     "execution_count": 14,
     "metadata": {},
     "output_type": "execute_result"
    }
   ],
   "source": [
    "type(df)"
   ]
  },
  {
   "cell_type": "code",
   "execution_count": 7,
   "id": "2c1788e2-ce4c-4c23-8222-ea6e2a7e8f7c",
   "metadata": {},
   "outputs": [
    {
     "name": "stdout",
     "output_type": "stream",
     "text": [
      "{\"id_\": 6408, \"name\": \"Apple Inc\", \"symbol\": \"AAPL\", \"country\": \"united states\", \"tag\": \"/equities/apple-computer-inc\", \"pair_type\": \"stocks\", \"exchange\": \"NASDAQ\"}\n"
     ]
    }
   ],
   "source": [
    "search_result = inv.search_quotes(text='apple', products=['stocks'],\n",
    "                                       countries=['united states'], n_results=1)\n",
    "print(search_result)"
   ]
  },
  {
   "cell_type": "code",
   "execution_count": 15,
   "id": "56bf5ad8-fecf-42c0-bf7a-d1dd9ed4d2ba",
   "metadata": {},
   "outputs": [
    {
     "data": {
      "text/plain": [
       "investpy.utils.search_obj.SearchObj"
      ]
     },
     "execution_count": 15,
     "metadata": {},
     "output_type": "execute_result"
    }
   ],
   "source": [
    "type(search_result)"
   ]
  },
  {
   "cell_type": "code",
   "execution_count": 8,
   "id": "b659f41c-ec56-4efb-ba6a-3e5a4fb2d620",
   "metadata": {},
   "outputs": [
    {
     "name": "stdout",
     "output_type": "stream",
     "text": [
      "              Open    High     Low   Close     Volume  Change Pct\n",
      "Date                                                             \n",
      "2021-12-02  158.74  164.20  157.80  163.76  136340992       -0.61\n",
      "2021-12-03  164.02  164.96  159.72  161.84  118023000       -1.17\n",
      "2021-12-06  164.29  167.88  164.28  165.32  106617000        2.15\n",
      "2021-12-07  169.08  171.58  168.34  171.18  115597000        3.54\n",
      "2021-12-08  172.13  175.96  170.70  175.08  116386000        2.28\n"
     ]
    }
   ],
   "source": [
    "recent_data = search_result.retrieve_recent_data()\n",
    "print(recent_data.head())"
   ]
  },
  {
   "cell_type": "code",
   "execution_count": 16,
   "id": "5d727aa8-15ac-45c9-b040-a8abe5c89b7e",
   "metadata": {},
   "outputs": [
    {
     "data": {
      "text/plain": [
       "pandas.core.frame.DataFrame"
      ]
     },
     "execution_count": 16,
     "metadata": {},
     "output_type": "execute_result"
    }
   ],
   "source": [
    "type(recent_data)"
   ]
  },
  {
   "cell_type": "code",
   "execution_count": 9,
   "id": "bfade584-3829-415d-a976-feb520fc1547",
   "metadata": {},
   "outputs": [
    {
     "name": "stdout",
     "output_type": "stream",
     "text": [
      "             Open   High    Low  Close     Volume  Change Pct\n",
      "Date                                                         \n",
      "2019-01-02  38.72  39.71  38.56  39.48  148158944        0.10\n",
      "2019-01-03  35.99  36.43  35.50  35.55  365248768       -9.95\n",
      "2019-01-04  36.13  37.14  35.95  37.06  234428288        4.25\n",
      "2019-01-07  37.17  37.21  36.48  36.98  219111056       -0.22\n",
      "2019-01-08  37.39  37.95  37.13  37.69  164101248        1.92\n"
     ]
    }
   ],
   "source": [
    "historical_data = search_result.retrieve_historical_data(from_date='01/01/2019', to_date='01/01/2020')\n",
    "print(historical_data.head())"
   ]
  },
  {
   "cell_type": "code",
   "execution_count": 17,
   "id": "90ee13e1-cb6e-4e34-b410-3c2e63fbb7af",
   "metadata": {},
   "outputs": [
    {
     "data": {
      "text/plain": [
       "pandas.core.frame.DataFrame"
      ]
     },
     "execution_count": 17,
     "metadata": {},
     "output_type": "execute_result"
    }
   ],
   "source": [
    "type(historical_data)"
   ]
  },
  {
   "cell_type": "code",
   "execution_count": 10,
   "id": "2c34e618-cd38-4d66-8319-96d06b49d3d1",
   "metadata": {},
   "outputs": [
    {
     "name": "stdout",
     "output_type": "stream",
     "text": [
      "{'prevClose': 178.2, 'dailyRange': '177.26-179.23', 'revenue': 365820000000, 'open': 178.09, 'weekRange': '116.21-182.13', 'eps': 5.61, 'volume': 61631153, 'marketCap': 2910000000000, 'dividend': '0.88(0.54%)', 'avgVolume': 87652226, 'ratio': 31.67, 'beta': 1.2, 'oneYearReturn': '33.82%', 'sharesOutstanding': 16406397000, 'nextEarningDate': '01/02/2022'}\n"
     ]
    }
   ],
   "source": [
    "information = search_result.retrieve_information()\n",
    "print(information)"
   ]
  },
  {
   "cell_type": "code",
   "execution_count": 18,
   "id": "6da2557a-76ab-4429-9a9b-3a6fafaf62c3",
   "metadata": {},
   "outputs": [
    {
     "data": {
      "text/plain": [
       "dict"
      ]
     },
     "execution_count": 18,
     "metadata": {},
     "output_type": "execute_result"
    }
   ],
   "source": [
    "type(information)"
   ]
  },
  {
   "cell_type": "code",
   "execution_count": 11,
   "id": "0d372ae5-ce88-4a5a-99e2-9d9d2e844b0c",
   "metadata": {},
   "outputs": [
    {
     "name": "stdout",
     "output_type": "stream",
     "text": [
      "USD\n"
     ]
    }
   ],
   "source": [
    "default_currency = search_result.retrieve_currency()\n",
    "print(default_currency)"
   ]
  },
  {
   "cell_type": "code",
   "execution_count": 19,
   "id": "026b64ae-e863-4cab-8a66-ee14621126bc",
   "metadata": {},
   "outputs": [
    {
     "data": {
      "text/plain": [
       "str"
      ]
     },
     "execution_count": 19,
     "metadata": {},
     "output_type": "execute_result"
    }
   ],
   "source": [
    "type(default_currency)"
   ]
  },
  {
   "cell_type": "code",
   "execution_count": 12,
   "id": "4a5ef91c-103e-44c3-8608-726f8ab783cc",
   "metadata": {},
   "outputs": [
    {
     "name": "stdout",
     "output_type": "stream",
     "text": [
      "              indicator    value           signal\n",
      "0               RSI(14)  61.5070              buy\n",
      "1            STOCH(9,6)  79.1620              buy\n",
      "2          STOCHRSI(14)  36.2780             sell\n",
      "3           MACD(12,26)   4.7200              buy\n",
      "4               ADX(14)  46.7820              buy\n",
      "5           Williams %R -30.6070              buy\n",
      "6               CCI(14)  52.0154              buy\n",
      "7               ATR(14)   4.3078  less_volatility\n",
      "8        Highs/Lows(14)   0.0000          neutral\n",
      "9   Ultimate Oscillator  54.8250              buy\n",
      "10                  ROC  -1.0090             sell\n",
      "11  Bull/Bear Power(13)   5.0920              buy\n"
     ]
    }
   ],
   "source": [
    "technical_indicators = search_result.retrieve_technical_indicators(interval='daily')\n",
    "print(technical_indicators)"
   ]
  },
  {
   "cell_type": "code",
   "execution_count": 20,
   "id": "27876c26-c2bd-4a9b-b6b8-addd11ddb350",
   "metadata": {},
   "outputs": [
    {
     "data": {
      "text/plain": [
       "pandas.core.frame.DataFrame"
      ]
     },
     "execution_count": 20,
     "metadata": {},
     "output_type": "execute_result"
    }
   ],
   "source": [
    "type(technical_indicators)"
   ]
  },
  {
   "cell_type": "code",
   "execution_count": 13,
   "id": "4b1ff1d2-388f-4e2d-9ed4-8769c45c4d7e",
   "metadata": {},
   "outputs": [
    {
     "name": "stdout",
     "output_type": "stream",
     "text": [
      "             Open    High    Low   Close  Volume Currency\n",
      "Date                                                     \n",
      "2014-01-01  805.9   829.9  771.0   815.9   10757      USD\n",
      "2014-01-02  815.9   886.2  810.5   856.9   12812      USD\n",
      "2014-01-03  856.9   888.2  839.4   884.3    9709      USD\n",
      "2014-01-04  884.3   932.2  848.3   924.7   14239      USD\n",
      "2014-01-05  924.7  1029.9  911.4  1014.7   21374      USD\n"
     ]
    }
   ],
   "source": [
    "data = inv.get_crypto_historical_data(crypto='bitcoin',\n",
    "                                           from_date='01/01/2014',\n",
    "                                           to_date='01/01/2019')\n",
    "\n",
    "print(data.head())"
   ]
  },
  {
   "cell_type": "code",
   "execution_count": 21,
   "id": "863d1788-490b-405c-9a96-623087f6319b",
   "metadata": {},
   "outputs": [
    {
     "data": {
      "text/plain": [
       "pandas.core.frame.DataFrame"
      ]
     },
     "execution_count": 21,
     "metadata": {},
     "output_type": "execute_result"
    }
   ],
   "source": [
    "type(data)"
   ]
  },
  {
   "cell_type": "code",
   "execution_count": 22,
   "id": "23f0306f-df9a-4e96-a19e-2a252a9a1226",
   "metadata": {},
   "outputs": [
    {
     "data": {
      "text/plain": [
       "['argentina',\n",
       " 'brazil',\n",
       " 'canada',\n",
       " 'chile',\n",
       " 'colombia',\n",
       " 'costa rica',\n",
       " 'jamaica',\n",
       " 'mexico',\n",
       " 'peru',\n",
       " 'united states',\n",
       " 'venezuela',\n",
       " 'austria',\n",
       " 'belgium',\n",
       " 'bosnia',\n",
       " 'bulgaria',\n",
       " 'croatia',\n",
       " 'cyprus',\n",
       " 'czech republic',\n",
       " 'denmark',\n",
       " 'finland',\n",
       " 'france',\n",
       " 'germany',\n",
       " 'greece',\n",
       " 'hungary',\n",
       " 'iceland',\n",
       " 'ireland',\n",
       " 'italy',\n",
       " 'luxembourg',\n",
       " 'malta',\n",
       " 'montenegro',\n",
       " 'netherlands',\n",
       " 'norway',\n",
       " 'poland',\n",
       " 'portugal',\n",
       " 'romania',\n",
       " 'russia',\n",
       " 'serbia',\n",
       " 'slovakia',\n",
       " 'slovenia',\n",
       " 'spain',\n",
       " 'sweden',\n",
       " 'switzerland',\n",
       " 'turkey',\n",
       " 'ukraine',\n",
       " 'united kingdom',\n",
       " 'australia',\n",
       " 'bangladesh',\n",
       " 'china',\n",
       " 'hong kong',\n",
       " 'india',\n",
       " 'indonesia',\n",
       " 'japan',\n",
       " 'kazakhstan',\n",
       " 'malaysia',\n",
       " 'mongolia',\n",
       " 'new zealand',\n",
       " 'pakistan',\n",
       " 'philippines',\n",
       " 'singapore',\n",
       " 'south korea',\n",
       " 'sri lanka',\n",
       " 'taiwan',\n",
       " 'thailand',\n",
       " 'vietnam',\n",
       " 'bahrain',\n",
       " 'egypt',\n",
       " 'iraq',\n",
       " 'israel',\n",
       " 'jordan',\n",
       " 'kuwait',\n",
       " 'lebanon',\n",
       " 'oman',\n",
       " 'palestine',\n",
       " 'qatar',\n",
       " 'saudi arabia',\n",
       " 'dubai',\n",
       " 'botswana',\n",
       " 'ivory coast',\n",
       " 'kenya',\n",
       " 'malawi',\n",
       " 'mauritius',\n",
       " 'morocco',\n",
       " 'namibia',\n",
       " 'nigeria',\n",
       " 'rwanda',\n",
       " 'south africa',\n",
       " 'tanzania',\n",
       " 'tunisia',\n",
       " 'uganda',\n",
       " 'zambia',\n",
       " 'zimbabwe']"
      ]
     },
     "execution_count": 22,
     "metadata": {},
     "output_type": "execute_result"
    }
   ],
   "source": [
    "inv.get_stock_countries()"
   ]
  },
  {
   "cell_type": "code",
   "execution_count": 35,
   "id": "32f282e8-83ac-4f13-ae7a-2eb61578a601",
   "metadata": {},
   "outputs": [],
   "source": [
    "stk_sp=inv.get_stocks(\"spain\")"
   ]
  },
  {
   "cell_type": "code",
   "execution_count": 36,
   "id": "5d1f1888-85c3-4ae4-9108-6b3cfdef811d",
   "metadata": {},
   "outputs": [
    {
     "data": {
      "text/plain": [
       "pandas.core.frame.DataFrame"
      ]
     },
     "execution_count": 36,
     "metadata": {},
     "output_type": "execute_result"
    }
   ],
   "source": [
    "type(stk_sp)"
   ]
  },
  {
   "cell_type": "code",
   "execution_count": 37,
   "id": "b304d04b-a9c7-4aa5-9628-310c3b6af04c",
   "metadata": {},
   "outputs": [
    {
     "data": {
      "text/html": [
       "<div>\n",
       "<style scoped>\n",
       "    .dataframe tbody tr th:only-of-type {\n",
       "        vertical-align: middle;\n",
       "    }\n",
       "\n",
       "    .dataframe tbody tr th {\n",
       "        vertical-align: top;\n",
       "    }\n",
       "\n",
       "    .dataframe thead th {\n",
       "        text-align: right;\n",
       "    }\n",
       "</style>\n",
       "<table border=\"1\" class=\"dataframe\">\n",
       "  <thead>\n",
       "    <tr style=\"text-align: right;\">\n",
       "      <th></th>\n",
       "      <th>country</th>\n",
       "      <th>name</th>\n",
       "      <th>full_name</th>\n",
       "      <th>isin</th>\n",
       "      <th>currency</th>\n",
       "      <th>symbol</th>\n",
       "    </tr>\n",
       "  </thead>\n",
       "  <tbody>\n",
       "    <tr>\n",
       "      <th>0</th>\n",
       "      <td>spain</td>\n",
       "      <td>ACS</td>\n",
       "      <td>ACS Actividades de Construccion y Servicios SA</td>\n",
       "      <td>ES0167050915</td>\n",
       "      <td>EUR</td>\n",
       "      <td>ACS</td>\n",
       "    </tr>\n",
       "    <tr>\n",
       "      <th>1</th>\n",
       "      <td>spain</td>\n",
       "      <td>Abengoa</td>\n",
       "      <td>Abengoa</td>\n",
       "      <td>ES0105200416</td>\n",
       "      <td>EUR</td>\n",
       "      <td>ABG</td>\n",
       "    </tr>\n",
       "    <tr>\n",
       "      <th>2</th>\n",
       "      <td>spain</td>\n",
       "      <td>Atresmedia</td>\n",
       "      <td>Atresmedia</td>\n",
       "      <td>ES0109427734</td>\n",
       "      <td>EUR</td>\n",
       "      <td>A3M</td>\n",
       "    </tr>\n",
       "    <tr>\n",
       "      <th>3</th>\n",
       "      <td>spain</td>\n",
       "      <td>Acerinox</td>\n",
       "      <td>Acerinox</td>\n",
       "      <td>ES0132105018</td>\n",
       "      <td>EUR</td>\n",
       "      <td>ACX</td>\n",
       "    </tr>\n",
       "    <tr>\n",
       "      <th>4</th>\n",
       "      <td>spain</td>\n",
       "      <td>BBVA</td>\n",
       "      <td>BBVA</td>\n",
       "      <td>ES0113211835</td>\n",
       "      <td>EUR</td>\n",
       "      <td>BBVA</td>\n",
       "    </tr>\n",
       "    <tr>\n",
       "      <th>...</th>\n",
       "      <td>...</td>\n",
       "      <td>...</td>\n",
       "      <td>...</td>\n",
       "      <td>...</td>\n",
       "      <td>...</td>\n",
       "      <td>...</td>\n",
       "    </tr>\n",
       "    <tr>\n",
       "      <th>229</th>\n",
       "      <td>spain</td>\n",
       "      <td>Proeduca Altus</td>\n",
       "      <td>Proeduca Altus SA</td>\n",
       "      <td>ES0105400008</td>\n",
       "      <td>EUR</td>\n",
       "      <td>PROE</td>\n",
       "    </tr>\n",
       "    <tr>\n",
       "      <th>230</th>\n",
       "      <td>spain</td>\n",
       "      <td>Meridia RE III</td>\n",
       "      <td>Meridia Real Estate III Socimi SA</td>\n",
       "      <td>ES0105313003</td>\n",
       "      <td>EUR</td>\n",
       "      <td>YMRE</td>\n",
       "    </tr>\n",
       "    <tr>\n",
       "      <th>231</th>\n",
       "      <td>spain</td>\n",
       "      <td>Iffe Futura</td>\n",
       "      <td>Iffe Futura SA</td>\n",
       "      <td>ES0171613005</td>\n",
       "      <td>EUR</td>\n",
       "      <td>IFFE</td>\n",
       "    </tr>\n",
       "    <tr>\n",
       "      <th>232</th>\n",
       "      <td>spain</td>\n",
       "      <td>Viviendas en Alquiler</td>\n",
       "      <td>Compania Espanola de Viviendas en Alquiler SA</td>\n",
       "      <td>ES0132955008</td>\n",
       "      <td>EUR</td>\n",
       "      <td>CEV</td>\n",
       "    </tr>\n",
       "    <tr>\n",
       "      <th>233</th>\n",
       "      <td>spain</td>\n",
       "      <td>Millenium Hotels</td>\n",
       "      <td>Millenium Hotels Real Estate SA</td>\n",
       "      <td>ES0105407003</td>\n",
       "      <td>EUR</td>\n",
       "      <td>YMHRE</td>\n",
       "    </tr>\n",
       "  </tbody>\n",
       "</table>\n",
       "<p>234 rows × 6 columns</p>\n",
       "</div>"
      ],
      "text/plain": [
       "    country                   name  \\\n",
       "0     spain                    ACS   \n",
       "1     spain                Abengoa   \n",
       "2     spain             Atresmedia   \n",
       "3     spain               Acerinox   \n",
       "4     spain                   BBVA   \n",
       "..      ...                    ...   \n",
       "229   spain         Proeduca Altus   \n",
       "230   spain         Meridia RE III   \n",
       "231   spain            Iffe Futura   \n",
       "232   spain  Viviendas en Alquiler   \n",
       "233   spain       Millenium Hotels   \n",
       "\n",
       "                                          full_name          isin currency  \\\n",
       "0    ACS Actividades de Construccion y Servicios SA  ES0167050915      EUR   \n",
       "1                                           Abengoa  ES0105200416      EUR   \n",
       "2                                        Atresmedia  ES0109427734      EUR   \n",
       "3                                          Acerinox  ES0132105018      EUR   \n",
       "4                                              BBVA  ES0113211835      EUR   \n",
       "..                                              ...           ...      ...   \n",
       "229                               Proeduca Altus SA  ES0105400008      EUR   \n",
       "230               Meridia Real Estate III Socimi SA  ES0105313003      EUR   \n",
       "231                                  Iffe Futura SA  ES0171613005      EUR   \n",
       "232   Compania Espanola de Viviendas en Alquiler SA  ES0132955008      EUR   \n",
       "233                 Millenium Hotels Real Estate SA  ES0105407003      EUR   \n",
       "\n",
       "    symbol  \n",
       "0      ACS  \n",
       "1      ABG  \n",
       "2      A3M  \n",
       "3      ACX  \n",
       "4     BBVA  \n",
       "..     ...  \n",
       "229   PROE  \n",
       "230   YMRE  \n",
       "231   IFFE  \n",
       "232    CEV  \n",
       "233  YMHRE  \n",
       "\n",
       "[234 rows x 6 columns]"
      ]
     },
     "execution_count": 37,
     "metadata": {},
     "output_type": "execute_result"
    }
   ],
   "source": [
    "stk_sp"
   ]
  },
  {
   "cell_type": "code",
   "execution_count": 39,
   "id": "ab0bcdc9-2d9f-482a-9c7b-d989f9099146",
   "metadata": {},
   "outputs": [],
   "source": [
    "srch_tlf=inv.search_stocks(\"name\", \"Telefonica\")"
   ]
  },
  {
   "cell_type": "code",
   "execution_count": 40,
   "id": "b19e0232-3d8a-4340-9b58-1008b08f00e1",
   "metadata": {},
   "outputs": [
    {
     "data": {
      "text/plain": [
       "pandas.core.frame.DataFrame"
      ]
     },
     "execution_count": 40,
     "metadata": {},
     "output_type": "execute_result"
    }
   ],
   "source": [
    "type(srch_tlf)"
   ]
  },
  {
   "cell_type": "code",
   "execution_count": 41,
   "id": "cd57ecb9-2bff-4d41-8bc7-f716dcc2363d",
   "metadata": {},
   "outputs": [
    {
     "data": {
      "text/html": [
       "<div>\n",
       "<style scoped>\n",
       "    .dataframe tbody tr th:only-of-type {\n",
       "        vertical-align: middle;\n",
       "    }\n",
       "\n",
       "    .dataframe tbody tr th {\n",
       "        vertical-align: top;\n",
       "    }\n",
       "\n",
       "    .dataframe thead th {\n",
       "        text-align: right;\n",
       "    }\n",
       "</style>\n",
       "<table border=\"1\" class=\"dataframe\">\n",
       "  <thead>\n",
       "    <tr style=\"text-align: right;\">\n",
       "      <th></th>\n",
       "      <th>country</th>\n",
       "      <th>name</th>\n",
       "      <th>full_name</th>\n",
       "      <th>isin</th>\n",
       "      <th>currency</th>\n",
       "      <th>symbol</th>\n",
       "    </tr>\n",
       "  </thead>\n",
       "  <tbody>\n",
       "    <tr>\n",
       "      <th>0</th>\n",
       "      <td>argentina</td>\n",
       "      <td>Telefonica</td>\n",
       "      <td>Telefonica</td>\n",
       "      <td>ES0178430E18</td>\n",
       "      <td>ARS</td>\n",
       "      <td>TEF</td>\n",
       "    </tr>\n",
       "    <tr>\n",
       "      <th>1</th>\n",
       "      <td>chile</td>\n",
       "      <td>Telefonica Chile</td>\n",
       "      <td>Telefonica Chile SA</td>\n",
       "      <td>CLP3058U1199</td>\n",
       "      <td>CLP</td>\n",
       "      <td>CTC</td>\n",
       "    </tr>\n",
       "    <tr>\n",
       "      <th>2</th>\n",
       "      <td>mexico</td>\n",
       "      <td>Telefonica ADR</td>\n",
       "      <td>Telefonica</td>\n",
       "      <td>US8793822086</td>\n",
       "      <td>MXN</td>\n",
       "      <td>TEFN</td>\n",
       "    </tr>\n",
       "    <tr>\n",
       "      <th>3</th>\n",
       "      <td>peru</td>\n",
       "      <td>Telefonica del Peru SAA</td>\n",
       "      <td>Telefonica del Peru SAA</td>\n",
       "      <td>PEP705001209</td>\n",
       "      <td>PEN</td>\n",
       "      <td>TELb</td>\n",
       "    </tr>\n",
       "    <tr>\n",
       "      <th>4</th>\n",
       "      <td>peru</td>\n",
       "      <td>Telefonica ADR</td>\n",
       "      <td>Telefonica SA DRC</td>\n",
       "      <td>US8793822086</td>\n",
       "      <td>USD</td>\n",
       "      <td>TEF</td>\n",
       "    </tr>\n",
       "    <tr>\n",
       "      <th>5</th>\n",
       "      <td>united states</td>\n",
       "      <td>Telefonica ADR</td>\n",
       "      <td>Telefonica SA ADR</td>\n",
       "      <td>US8793822086</td>\n",
       "      <td>USD</td>\n",
       "      <td>TEF</td>\n",
       "    </tr>\n",
       "    <tr>\n",
       "      <th>6</th>\n",
       "      <td>austria</td>\n",
       "      <td>Telefonica Deutschland AG</td>\n",
       "      <td>Telefonica Deutschland Holding AG</td>\n",
       "      <td>DE000A1J5RX9</td>\n",
       "      <td>EUR</td>\n",
       "      <td>O2Dn</td>\n",
       "    </tr>\n",
       "    <tr>\n",
       "      <th>7</th>\n",
       "      <td>belgium</td>\n",
       "      <td>Telefonica</td>\n",
       "      <td>Telefonica SA</td>\n",
       "      <td>ES0178430E18</td>\n",
       "      <td>EUR</td>\n",
       "      <td>TEF</td>\n",
       "    </tr>\n",
       "    <tr>\n",
       "      <th>8</th>\n",
       "      <td>germany</td>\n",
       "      <td>Telefonica Deutschland AG</td>\n",
       "      <td>Telefonica Deutschland Holding AG</td>\n",
       "      <td>DE000A1J5RX9</td>\n",
       "      <td>EUR</td>\n",
       "      <td>O2Dn</td>\n",
       "    </tr>\n",
       "    <tr>\n",
       "      <th>9</th>\n",
       "      <td>italy</td>\n",
       "      <td>Telefonica</td>\n",
       "      <td>Telefonica</td>\n",
       "      <td>ES0178430E18</td>\n",
       "      <td>EUR</td>\n",
       "      <td>TEF</td>\n",
       "    </tr>\n",
       "    <tr>\n",
       "      <th>10</th>\n",
       "      <td>spain</td>\n",
       "      <td>Telefonica</td>\n",
       "      <td>Telefonica</td>\n",
       "      <td>ES0178430E18</td>\n",
       "      <td>EUR</td>\n",
       "      <td>TEF</td>\n",
       "    </tr>\n",
       "    <tr>\n",
       "      <th>11</th>\n",
       "      <td>switzerland</td>\n",
       "      <td>Telefonica Deutschland AG</td>\n",
       "      <td>Telefonica Deutschland Holding AG</td>\n",
       "      <td>DE000A1J5RX9</td>\n",
       "      <td>CHF</td>\n",
       "      <td>O2Dn</td>\n",
       "    </tr>\n",
       "    <tr>\n",
       "      <th>12</th>\n",
       "      <td>united kingdom</td>\n",
       "      <td>Telefonica</td>\n",
       "      <td>Telefonica SA</td>\n",
       "      <td>ES0178430E18</td>\n",
       "      <td>EUR</td>\n",
       "      <td>0TDE</td>\n",
       "    </tr>\n",
       "  </tbody>\n",
       "</table>\n",
       "</div>"
      ],
      "text/plain": [
       "           country                       name  \\\n",
       "0        argentina                 Telefonica   \n",
       "1            chile           Telefonica Chile   \n",
       "2           mexico             Telefonica ADR   \n",
       "3             peru    Telefonica del Peru SAA   \n",
       "4             peru             Telefonica ADR   \n",
       "5    united states             Telefonica ADR   \n",
       "6          austria  Telefonica Deutschland AG   \n",
       "7          belgium                 Telefonica   \n",
       "8          germany  Telefonica Deutschland AG   \n",
       "9            italy                 Telefonica   \n",
       "10           spain                 Telefonica   \n",
       "11     switzerland  Telefonica Deutschland AG   \n",
       "12  united kingdom                 Telefonica   \n",
       "\n",
       "                            full_name          isin currency symbol  \n",
       "0                          Telefonica  ES0178430E18      ARS    TEF  \n",
       "1                 Telefonica Chile SA  CLP3058U1199      CLP    CTC  \n",
       "2                          Telefonica  US8793822086      MXN   TEFN  \n",
       "3             Telefonica del Peru SAA  PEP705001209      PEN   TELb  \n",
       "4                   Telefonica SA DRC  US8793822086      USD    TEF  \n",
       "5                   Telefonica SA ADR  US8793822086      USD    TEF  \n",
       "6   Telefonica Deutschland Holding AG  DE000A1J5RX9      EUR   O2Dn  \n",
       "7                       Telefonica SA  ES0178430E18      EUR    TEF  \n",
       "8   Telefonica Deutschland Holding AG  DE000A1J5RX9      EUR   O2Dn  \n",
       "9                          Telefonica  ES0178430E18      EUR    TEF  \n",
       "10                         Telefonica  ES0178430E18      EUR    TEF  \n",
       "11  Telefonica Deutschland Holding AG  DE000A1J5RX9      CHF   O2Dn  \n",
       "12                      Telefonica SA  ES0178430E18      EUR   0TDE  "
      ]
     },
     "execution_count": 41,
     "metadata": {},
     "output_type": "execute_result"
    }
   ],
   "source": [
    "srch_tlf"
   ]
  },
  {
   "cell_type": "code",
   "execution_count": 44,
   "id": "8f8654b9-22de-4223-92e6-fdb000632145",
   "metadata": {},
   "outputs": [],
   "source": [
    "srch_tlf=srch_tlf[srch_tlf[\"country\"]==\"spain\"]"
   ]
  },
  {
   "cell_type": "code",
   "execution_count": 45,
   "id": "998cb9e4-4b42-4338-9dac-0c8375e6b06c",
   "metadata": {},
   "outputs": [
    {
     "data": {
      "text/html": [
       "<div>\n",
       "<style scoped>\n",
       "    .dataframe tbody tr th:only-of-type {\n",
       "        vertical-align: middle;\n",
       "    }\n",
       "\n",
       "    .dataframe tbody tr th {\n",
       "        vertical-align: top;\n",
       "    }\n",
       "\n",
       "    .dataframe thead th {\n",
       "        text-align: right;\n",
       "    }\n",
       "</style>\n",
       "<table border=\"1\" class=\"dataframe\">\n",
       "  <thead>\n",
       "    <tr style=\"text-align: right;\">\n",
       "      <th></th>\n",
       "      <th>country</th>\n",
       "      <th>name</th>\n",
       "      <th>full_name</th>\n",
       "      <th>isin</th>\n",
       "      <th>currency</th>\n",
       "      <th>symbol</th>\n",
       "    </tr>\n",
       "  </thead>\n",
       "  <tbody>\n",
       "    <tr>\n",
       "      <th>10</th>\n",
       "      <td>spain</td>\n",
       "      <td>Telefonica</td>\n",
       "      <td>Telefonica</td>\n",
       "      <td>ES0178430E18</td>\n",
       "      <td>EUR</td>\n",
       "      <td>TEF</td>\n",
       "    </tr>\n",
       "  </tbody>\n",
       "</table>\n",
       "</div>"
      ],
      "text/plain": [
       "   country        name   full_name          isin currency symbol\n",
       "10   spain  Telefonica  Telefonica  ES0178430E18      EUR    TEF"
      ]
     },
     "execution_count": 45,
     "metadata": {},
     "output_type": "execute_result"
    }
   ],
   "source": [
    "srch_tlf"
   ]
  },
  {
   "cell_type": "markdown",
   "id": "ea8e9072-bf2b-4b41-a670-71e4f73bcafb",
   "metadata": {},
   "source": [
    "-------------------- CURRENCIES --------------------"
   ]
  },
  {
   "cell_type": "code",
   "execution_count": 23,
   "id": "ae051ecd-2687-4128-b1e3-a5ce80923792",
   "metadata": {},
   "outputs": [],
   "source": [
    "curr_cross=inv.get_currency_crosses()"
   ]
  },
  {
   "cell_type": "code",
   "execution_count": 24,
   "id": "7f1a5402-5264-4b79-967d-979298c7f2e9",
   "metadata": {},
   "outputs": [
    {
     "name": "stdout",
     "output_type": "stream",
     "text": [
      "      name                             full_name base        base_name second  \\\n",
      "0  USD/AED        USD/AED - US Dollar UAE Dirham  USD        US Dollar    AED   \n",
      "1  AED/JPY     AED/JPY - UAE Dirham Japanese Yen  AED       UAE Dirham    JPY   \n",
      "2  AED/PKR  AED/PKR - UAE Dirham Pakistani Rupee  AED       UAE Dirham    PKR   \n",
      "3  CAD/AED  CAD/AED - Canadian Dollar UAE Dirham  CAD  Canadian Dollar    AED   \n",
      "4  CHF/AED      CHF/AED - Swiss Franc UAE Dirham  CHF      Swiss Franc    AED   \n",
      "\n",
      "       second_name  \n",
      "0       UAE Dirham  \n",
      "1     Japanese Yen  \n",
      "2  Pakistani Rupee  \n",
      "3       UAE Dirham  \n",
      "4       UAE Dirham  \n"
     ]
    }
   ],
   "source": [
    "print(curr_cross.head())"
   ]
  },
  {
   "cell_type": "code",
   "execution_count": 25,
   "id": "5cce442f-e51c-4a14-9d22-74669bbbb71d",
   "metadata": {},
   "outputs": [
    {
     "data": {
      "text/html": [
       "<div>\n",
       "<style scoped>\n",
       "    .dataframe tbody tr th:only-of-type {\n",
       "        vertical-align: middle;\n",
       "    }\n",
       "\n",
       "    .dataframe tbody tr th {\n",
       "        vertical-align: top;\n",
       "    }\n",
       "\n",
       "    .dataframe thead th {\n",
       "        text-align: right;\n",
       "    }\n",
       "</style>\n",
       "<table border=\"1\" class=\"dataframe\">\n",
       "  <thead>\n",
       "    <tr style=\"text-align: right;\">\n",
       "      <th></th>\n",
       "      <th>name</th>\n",
       "      <th>full_name</th>\n",
       "      <th>base</th>\n",
       "      <th>base_name</th>\n",
       "      <th>second</th>\n",
       "      <th>second_name</th>\n",
       "    </tr>\n",
       "  </thead>\n",
       "  <tbody>\n",
       "    <tr>\n",
       "      <th>0</th>\n",
       "      <td>USD/AED</td>\n",
       "      <td>USD/AED - US Dollar UAE Dirham</td>\n",
       "      <td>USD</td>\n",
       "      <td>US Dollar</td>\n",
       "      <td>AED</td>\n",
       "      <td>UAE Dirham</td>\n",
       "    </tr>\n",
       "    <tr>\n",
       "      <th>1</th>\n",
       "      <td>AED/JPY</td>\n",
       "      <td>AED/JPY - UAE Dirham Japanese Yen</td>\n",
       "      <td>AED</td>\n",
       "      <td>UAE Dirham</td>\n",
       "      <td>JPY</td>\n",
       "      <td>Japanese Yen</td>\n",
       "    </tr>\n",
       "    <tr>\n",
       "      <th>2</th>\n",
       "      <td>AED/PKR</td>\n",
       "      <td>AED/PKR - UAE Dirham Pakistani Rupee</td>\n",
       "      <td>AED</td>\n",
       "      <td>UAE Dirham</td>\n",
       "      <td>PKR</td>\n",
       "      <td>Pakistani Rupee</td>\n",
       "    </tr>\n",
       "    <tr>\n",
       "      <th>3</th>\n",
       "      <td>CAD/AED</td>\n",
       "      <td>CAD/AED - Canadian Dollar UAE Dirham</td>\n",
       "      <td>CAD</td>\n",
       "      <td>Canadian Dollar</td>\n",
       "      <td>AED</td>\n",
       "      <td>UAE Dirham</td>\n",
       "    </tr>\n",
       "    <tr>\n",
       "      <th>4</th>\n",
       "      <td>CHF/AED</td>\n",
       "      <td>CHF/AED - Swiss Franc UAE Dirham</td>\n",
       "      <td>CHF</td>\n",
       "      <td>Swiss Franc</td>\n",
       "      <td>AED</td>\n",
       "      <td>UAE Dirham</td>\n",
       "    </tr>\n",
       "    <tr>\n",
       "      <th>...</th>\n",
       "      <td>...</td>\n",
       "      <td>...</td>\n",
       "      <td>...</td>\n",
       "      <td>...</td>\n",
       "      <td>...</td>\n",
       "      <td>...</td>\n",
       "    </tr>\n",
       "    <tr>\n",
       "      <th>2026</th>\n",
       "      <td>ZAR/XAF</td>\n",
       "      <td>ZAR/XAF - South African Rand Central African F...</td>\n",
       "      <td>ZAR</td>\n",
       "      <td>South African Rand</td>\n",
       "      <td>XAF</td>\n",
       "      <td>Central African Franc</td>\n",
       "    </tr>\n",
       "    <tr>\n",
       "      <th>2027</th>\n",
       "      <td>ZAR/XCD</td>\n",
       "      <td>ZAR/XCD - South African Rand East Caribbean Do...</td>\n",
       "      <td>ZAR</td>\n",
       "      <td>South African Rand</td>\n",
       "      <td>XCD</td>\n",
       "      <td>East Caribbean Dollar</td>\n",
       "    </tr>\n",
       "    <tr>\n",
       "      <th>2028</th>\n",
       "      <td>ZAR/XOF</td>\n",
       "      <td>ZAR/XOF - South African Rand West African CFA ...</td>\n",
       "      <td>ZAR</td>\n",
       "      <td>South African Rand</td>\n",
       "      <td>XOF</td>\n",
       "      <td>West African CFA franc</td>\n",
       "    </tr>\n",
       "    <tr>\n",
       "      <th>2029</th>\n",
       "      <td>XAU/USD</td>\n",
       "      <td>XAU/USD - Gold Spot US Dollar</td>\n",
       "      <td>XAU</td>\n",
       "      <td>Gold Spot</td>\n",
       "      <td>USD</td>\n",
       "      <td>US Dollar</td>\n",
       "    </tr>\n",
       "    <tr>\n",
       "      <th>2030</th>\n",
       "      <td>XAG/USD</td>\n",
       "      <td>XAG/USD - Silver Spot US Dollar</td>\n",
       "      <td>XAG</td>\n",
       "      <td>Silver Spot</td>\n",
       "      <td>USD</td>\n",
       "      <td>US Dollar</td>\n",
       "    </tr>\n",
       "  </tbody>\n",
       "</table>\n",
       "<p>2031 rows × 6 columns</p>\n",
       "</div>"
      ],
      "text/plain": [
       "         name                                          full_name base  \\\n",
       "0     USD/AED                     USD/AED - US Dollar UAE Dirham  USD   \n",
       "1     AED/JPY                  AED/JPY - UAE Dirham Japanese Yen  AED   \n",
       "2     AED/PKR               AED/PKR - UAE Dirham Pakistani Rupee  AED   \n",
       "3     CAD/AED               CAD/AED - Canadian Dollar UAE Dirham  CAD   \n",
       "4     CHF/AED                   CHF/AED - Swiss Franc UAE Dirham  CHF   \n",
       "...       ...                                                ...  ...   \n",
       "2026  ZAR/XAF  ZAR/XAF - South African Rand Central African F...  ZAR   \n",
       "2027  ZAR/XCD  ZAR/XCD - South African Rand East Caribbean Do...  ZAR   \n",
       "2028  ZAR/XOF  ZAR/XOF - South African Rand West African CFA ...  ZAR   \n",
       "2029  XAU/USD                      XAU/USD - Gold Spot US Dollar  XAU   \n",
       "2030  XAG/USD                    XAG/USD - Silver Spot US Dollar  XAG   \n",
       "\n",
       "               base_name second             second_name  \n",
       "0              US Dollar    AED              UAE Dirham  \n",
       "1             UAE Dirham    JPY            Japanese Yen  \n",
       "2             UAE Dirham    PKR         Pakistani Rupee  \n",
       "3        Canadian Dollar    AED              UAE Dirham  \n",
       "4            Swiss Franc    AED              UAE Dirham  \n",
       "...                  ...    ...                     ...  \n",
       "2026  South African Rand    XAF   Central African Franc  \n",
       "2027  South African Rand    XCD   East Caribbean Dollar  \n",
       "2028  South African Rand    XOF  West African CFA franc  \n",
       "2029           Gold Spot    USD               US Dollar  \n",
       "2030         Silver Spot    USD               US Dollar  \n",
       "\n",
       "[2031 rows x 6 columns]"
      ]
     },
     "execution_count": 25,
     "metadata": {},
     "output_type": "execute_result"
    }
   ],
   "source": [
    "curr_cross"
   ]
  },
  {
   "cell_type": "code",
   "execution_count": 26,
   "id": "b1b2fcbc-3368-499c-aa8e-d4a6668a4621",
   "metadata": {},
   "outputs": [],
   "source": [
    "eur_curr_cross=inv.get_currency_crosses(\"EUR\")"
   ]
  },
  {
   "cell_type": "code",
   "execution_count": 27,
   "id": "59c849bf-1b65-4148-b514-52aa00bfd0fc",
   "metadata": {},
   "outputs": [
    {
     "data": {
      "text/html": [
       "<div>\n",
       "<style scoped>\n",
       "    .dataframe tbody tr th:only-of-type {\n",
       "        vertical-align: middle;\n",
       "    }\n",
       "\n",
       "    .dataframe tbody tr th {\n",
       "        vertical-align: top;\n",
       "    }\n",
       "\n",
       "    .dataframe thead th {\n",
       "        text-align: right;\n",
       "    }\n",
       "</style>\n",
       "<table border=\"1\" class=\"dataframe\">\n",
       "  <thead>\n",
       "    <tr style=\"text-align: right;\">\n",
       "      <th></th>\n",
       "      <th>name</th>\n",
       "      <th>full_name</th>\n",
       "      <th>base</th>\n",
       "      <th>base_name</th>\n",
       "      <th>second</th>\n",
       "      <th>second_name</th>\n",
       "    </tr>\n",
       "  </thead>\n",
       "  <tbody>\n",
       "    <tr>\n",
       "      <th>0</th>\n",
       "      <td>EUR/AED</td>\n",
       "      <td>EUR/AED - Euro UAE Dirham</td>\n",
       "      <td>EUR</td>\n",
       "      <td>Euro</td>\n",
       "      <td>AED</td>\n",
       "      <td>UAE Dirham</td>\n",
       "    </tr>\n",
       "    <tr>\n",
       "      <th>1</th>\n",
       "      <td>EUR/AFN</td>\n",
       "      <td>EUR/AFN - Euro Afghanistan Afghani</td>\n",
       "      <td>EUR</td>\n",
       "      <td>Euro</td>\n",
       "      <td>AFN</td>\n",
       "      <td>Afghanistan Afghani</td>\n",
       "    </tr>\n",
       "    <tr>\n",
       "      <th>2</th>\n",
       "      <td>EUR/ALL</td>\n",
       "      <td>EUR/ALL - Euro Albanian Lek</td>\n",
       "      <td>EUR</td>\n",
       "      <td>Euro</td>\n",
       "      <td>ALL</td>\n",
       "      <td>Albanian Lek</td>\n",
       "    </tr>\n",
       "    <tr>\n",
       "      <th>3</th>\n",
       "      <td>EUR/AMD</td>\n",
       "      <td>EUR/AMD - Euro Armenian Dram</td>\n",
       "      <td>EUR</td>\n",
       "      <td>Euro</td>\n",
       "      <td>AMD</td>\n",
       "      <td>Armenian Dram</td>\n",
       "    </tr>\n",
       "    <tr>\n",
       "      <th>4</th>\n",
       "      <td>EUR/ANG</td>\n",
       "      <td>EUR/ANG - Euro Antilles Guilder</td>\n",
       "      <td>EUR</td>\n",
       "      <td>Euro</td>\n",
       "      <td>ANG</td>\n",
       "      <td>Antilles Guilder</td>\n",
       "    </tr>\n",
       "    <tr>\n",
       "      <th>...</th>\n",
       "      <td>...</td>\n",
       "      <td>...</td>\n",
       "      <td>...</td>\n",
       "      <td>...</td>\n",
       "      <td>...</td>\n",
       "      <td>...</td>\n",
       "    </tr>\n",
       "    <tr>\n",
       "      <th>128</th>\n",
       "      <td>EUR/MZN</td>\n",
       "      <td>EUR/MZN - Euro Mozambican Metical</td>\n",
       "      <td>EUR</td>\n",
       "      <td>Euro</td>\n",
       "      <td>MZN</td>\n",
       "      <td>Mozambican Metical</td>\n",
       "    </tr>\n",
       "    <tr>\n",
       "      <th>129</th>\n",
       "      <td>EUR/TJS</td>\n",
       "      <td>EUR/TJS - Euro Tajikistani somoni</td>\n",
       "      <td>EUR</td>\n",
       "      <td>Euro</td>\n",
       "      <td>TJS</td>\n",
       "      <td>Tajikistani somoni</td>\n",
       "    </tr>\n",
       "    <tr>\n",
       "      <th>130</th>\n",
       "      <td>EUR/RUB</td>\n",
       "      <td>EUR/RUB - Euro Russian Ruble</td>\n",
       "      <td>EUR</td>\n",
       "      <td>Euro</td>\n",
       "      <td>RUB</td>\n",
       "      <td>Russian Ruble</td>\n",
       "    </tr>\n",
       "    <tr>\n",
       "      <th>131</th>\n",
       "      <td>EUR/GEL</td>\n",
       "      <td>EUR/GEL - Euro Georgian lari</td>\n",
       "      <td>EUR</td>\n",
       "      <td>Euro</td>\n",
       "      <td>GEL</td>\n",
       "      <td>Georgian lari</td>\n",
       "    </tr>\n",
       "    <tr>\n",
       "      <th>132</th>\n",
       "      <td>EUR/RUB</td>\n",
       "      <td>EUR/RUB - Euro Russian Ruble</td>\n",
       "      <td>EUR</td>\n",
       "      <td>Euro</td>\n",
       "      <td>RUB</td>\n",
       "      <td>Russian Ruble</td>\n",
       "    </tr>\n",
       "  </tbody>\n",
       "</table>\n",
       "<p>133 rows × 6 columns</p>\n",
       "</div>"
      ],
      "text/plain": [
       "        name                           full_name base base_name second  \\\n",
       "0    EUR/AED           EUR/AED - Euro UAE Dirham  EUR      Euro    AED   \n",
       "1    EUR/AFN  EUR/AFN - Euro Afghanistan Afghani  EUR      Euro    AFN   \n",
       "2    EUR/ALL         EUR/ALL - Euro Albanian Lek  EUR      Euro    ALL   \n",
       "3    EUR/AMD        EUR/AMD - Euro Armenian Dram  EUR      Euro    AMD   \n",
       "4    EUR/ANG     EUR/ANG - Euro Antilles Guilder  EUR      Euro    ANG   \n",
       "..       ...                                 ...  ...       ...    ...   \n",
       "128  EUR/MZN   EUR/MZN - Euro Mozambican Metical  EUR      Euro    MZN   \n",
       "129  EUR/TJS   EUR/TJS - Euro Tajikistani somoni  EUR      Euro    TJS   \n",
       "130  EUR/RUB        EUR/RUB - Euro Russian Ruble  EUR      Euro    RUB   \n",
       "131  EUR/GEL        EUR/GEL - Euro Georgian lari  EUR      Euro    GEL   \n",
       "132  EUR/RUB        EUR/RUB - Euro Russian Ruble  EUR      Euro    RUB   \n",
       "\n",
       "             second_name  \n",
       "0             UAE Dirham  \n",
       "1    Afghanistan Afghani  \n",
       "2           Albanian Lek  \n",
       "3          Armenian Dram  \n",
       "4       Antilles Guilder  \n",
       "..                   ...  \n",
       "128   Mozambican Metical  \n",
       "129   Tajikistani somoni  \n",
       "130        Russian Ruble  \n",
       "131        Georgian lari  \n",
       "132        Russian Ruble  \n",
       "\n",
       "[133 rows x 6 columns]"
      ]
     },
     "execution_count": 27,
     "metadata": {},
     "output_type": "execute_result"
    }
   ],
   "source": [
    "eur_curr_cross"
   ]
  },
  {
   "cell_type": "code",
   "execution_count": 28,
   "id": "643d9261-2164-46db-b087-b6ee14b16135",
   "metadata": {},
   "outputs": [],
   "source": [
    "av_curr=inv.get_available_currencies()"
   ]
  },
  {
   "cell_type": "code",
   "execution_count": 29,
   "id": "06276113-06c2-46dd-be51-d47902b9a970",
   "metadata": {},
   "outputs": [
    {
     "data": {
      "text/plain": [
       "['AED',\n",
       " 'AFN',\n",
       " 'ALL',\n",
       " 'AMD',\n",
       " 'ANG',\n",
       " 'AOA',\n",
       " 'ARS',\n",
       " 'AUD',\n",
       " 'AZN',\n",
       " 'BAM',\n",
       " 'BBD',\n",
       " 'BDT',\n",
       " 'BGN',\n",
       " 'BHD',\n",
       " 'BIF',\n",
       " 'BND',\n",
       " 'BOB',\n",
       " 'BRL',\n",
       " 'BRLT',\n",
       " 'BSD',\n",
       " 'BWP',\n",
       " 'BYN',\n",
       " 'BZD',\n",
       " 'CAD',\n",
       " 'CHF',\n",
       " 'CLP',\n",
       " 'CNH',\n",
       " 'CNY',\n",
       " 'COP',\n",
       " 'CRC',\n",
       " 'CUP',\n",
       " 'CVE',\n",
       " 'CZK',\n",
       " 'DJF',\n",
       " 'DKK',\n",
       " 'DOP',\n",
       " 'DZD',\n",
       " 'EGP',\n",
       " 'ETB',\n",
       " 'EUR',\n",
       " 'FJD',\n",
       " 'GBP',\n",
       " 'GEL',\n",
       " 'GHS',\n",
       " 'GMD',\n",
       " 'GNF',\n",
       " 'GTQ',\n",
       " 'HKD',\n",
       " 'HNL',\n",
       " 'HRK',\n",
       " 'HTG',\n",
       " 'HUF',\n",
       " 'IDR',\n",
       " 'ILS',\n",
       " 'INR',\n",
       " 'IQD',\n",
       " 'IRR',\n",
       " 'ISK',\n",
       " 'JMD',\n",
       " 'JOD',\n",
       " 'JPY',\n",
       " 'KES',\n",
       " 'KGS',\n",
       " 'KHR',\n",
       " 'KMF',\n",
       " 'KRW',\n",
       " 'KWD',\n",
       " 'KYD',\n",
       " 'KZT',\n",
       " 'LAK',\n",
       " 'LBP',\n",
       " 'LKR',\n",
       " 'LSL',\n",
       " 'LYD',\n",
       " 'MAD',\n",
       " 'MDL',\n",
       " 'MGA',\n",
       " 'MKD',\n",
       " 'MMK',\n",
       " 'MNT',\n",
       " 'MOP',\n",
       " 'MRU',\n",
       " 'MUR',\n",
       " 'MVR',\n",
       " 'MWK',\n",
       " 'MXN',\n",
       " 'MYR',\n",
       " 'MZN',\n",
       " 'NAD',\n",
       " 'NGN',\n",
       " 'NIO',\n",
       " 'NOK',\n",
       " 'NPR',\n",
       " 'NZD',\n",
       " 'OMR',\n",
       " 'PAB',\n",
       " 'PEN',\n",
       " 'PGK',\n",
       " 'PHP',\n",
       " 'PKR',\n",
       " 'PLN',\n",
       " 'PYG',\n",
       " 'QAR',\n",
       " 'RON',\n",
       " 'RSD',\n",
       " 'RUB',\n",
       " 'RWF',\n",
       " 'SAR',\n",
       " 'SCR',\n",
       " 'SDG',\n",
       " 'SEK',\n",
       " 'SGD',\n",
       " 'SOS',\n",
       " 'STN',\n",
       " 'SVC',\n",
       " 'SYP',\n",
       " 'SZL',\n",
       " 'THB',\n",
       " 'TJS',\n",
       " 'TMT',\n",
       " 'TND',\n",
       " 'TRY',\n",
       " 'TTD',\n",
       " 'TWD',\n",
       " 'TZS',\n",
       " 'UAH',\n",
       " 'UGX',\n",
       " 'USD',\n",
       " 'UYU',\n",
       " 'UZS',\n",
       " 'VES',\n",
       " 'VND',\n",
       " 'VUV',\n",
       " 'XAF',\n",
       " 'XAGg',\n",
       " 'XBR',\n",
       " 'XCD',\n",
       " 'XOF',\n",
       " 'XPF',\n",
       " 'YER',\n",
       " 'ZAR',\n",
       " 'ZMW']"
      ]
     },
     "execution_count": 29,
     "metadata": {},
     "output_type": "execute_result"
    }
   ],
   "source": [
    "av_curr"
   ]
  },
  {
   "cell_type": "code",
   "execution_count": 30,
   "id": "24c6877a-f894-4dff-88be-df7b6f1d721a",
   "metadata": {},
   "outputs": [
    {
     "data": {
      "text/plain": [
       "list"
      ]
     },
     "execution_count": 30,
     "metadata": {},
     "output_type": "execute_result"
    }
   ],
   "source": [
    "type(av_curr)"
   ]
  },
  {
   "cell_type": "code",
   "execution_count": 31,
   "id": "19f6691c-d2b9-4c69-8135-e4eed44aa631",
   "metadata": {},
   "outputs": [],
   "source": [
    "hist_eurusd=inv.get_currency_cross_historical_data(\"EUR/USD\", from_date=\"01/01/2020\", to_date=\"01/01/2022\")"
   ]
  },
  {
   "cell_type": "code",
   "execution_count": 32,
   "id": "53452c3f-daa0-4572-aec0-d827ca108613",
   "metadata": {},
   "outputs": [
    {
     "data": {
      "text/plain": [
       "pandas.core.frame.DataFrame"
      ]
     },
     "execution_count": 32,
     "metadata": {},
     "output_type": "execute_result"
    }
   ],
   "source": [
    "type(hist_eurusd)"
   ]
  },
  {
   "cell_type": "code",
   "execution_count": 33,
   "id": "5e900cb4-261c-459d-b2fe-1596546539cd",
   "metadata": {},
   "outputs": [
    {
     "data": {
      "text/html": [
       "<div>\n",
       "<style scoped>\n",
       "    .dataframe tbody tr th:only-of-type {\n",
       "        vertical-align: middle;\n",
       "    }\n",
       "\n",
       "    .dataframe tbody tr th {\n",
       "        vertical-align: top;\n",
       "    }\n",
       "\n",
       "    .dataframe thead th {\n",
       "        text-align: right;\n",
       "    }\n",
       "</style>\n",
       "<table border=\"1\" class=\"dataframe\">\n",
       "  <thead>\n",
       "    <tr style=\"text-align: right;\">\n",
       "      <th></th>\n",
       "      <th>Open</th>\n",
       "      <th>High</th>\n",
       "      <th>Low</th>\n",
       "      <th>Close</th>\n",
       "      <th>Currency</th>\n",
       "    </tr>\n",
       "    <tr>\n",
       "      <th>Date</th>\n",
       "      <th></th>\n",
       "      <th></th>\n",
       "      <th></th>\n",
       "      <th></th>\n",
       "      <th></th>\n",
       "    </tr>\n",
       "  </thead>\n",
       "  <tbody>\n",
       "    <tr>\n",
       "      <th>2021-12-27</th>\n",
       "      <td>1.1318</td>\n",
       "      <td>1.1335</td>\n",
       "      <td>1.1302</td>\n",
       "      <td>1.1325</td>\n",
       "      <td>USD</td>\n",
       "    </tr>\n",
       "    <tr>\n",
       "      <th>2021-12-28</th>\n",
       "      <td>1.1329</td>\n",
       "      <td>1.1335</td>\n",
       "      <td>1.1289</td>\n",
       "      <td>1.1309</td>\n",
       "      <td>USD</td>\n",
       "    </tr>\n",
       "    <tr>\n",
       "      <th>2021-12-29</th>\n",
       "      <td>1.1310</td>\n",
       "      <td>1.1370</td>\n",
       "      <td>1.1273</td>\n",
       "      <td>1.1348</td>\n",
       "      <td>USD</td>\n",
       "    </tr>\n",
       "    <tr>\n",
       "      <th>2021-12-30</th>\n",
       "      <td>1.1349</td>\n",
       "      <td>1.1360</td>\n",
       "      <td>1.1298</td>\n",
       "      <td>1.1323</td>\n",
       "      <td>USD</td>\n",
       "    </tr>\n",
       "    <tr>\n",
       "      <th>2021-12-31</th>\n",
       "      <td>1.1324</td>\n",
       "      <td>1.1387</td>\n",
       "      <td>1.1302</td>\n",
       "      <td>1.1368</td>\n",
       "      <td>USD</td>\n",
       "    </tr>\n",
       "  </tbody>\n",
       "</table>\n",
       "</div>"
      ],
      "text/plain": [
       "              Open    High     Low   Close Currency\n",
       "Date                                               \n",
       "2021-12-27  1.1318  1.1335  1.1302  1.1325      USD\n",
       "2021-12-28  1.1329  1.1335  1.1289  1.1309      USD\n",
       "2021-12-29  1.1310  1.1370  1.1273  1.1348      USD\n",
       "2021-12-30  1.1349  1.1360  1.1298  1.1323      USD\n",
       "2021-12-31  1.1324  1.1387  1.1302  1.1368      USD"
      ]
     },
     "execution_count": 33,
     "metadata": {},
     "output_type": "execute_result"
    }
   ],
   "source": [
    "hist_eurusd.tail()"
   ]
  },
  {
   "cell_type": "markdown",
   "id": "4acd8e8c-8b11-4c0b-abf3-d89107651068",
   "metadata": {},
   "source": [
    "<H3>----------------- FONDOS --------------------------</H3>"
   ]
  },
  {
   "cell_type": "code",
   "execution_count": 57,
   "id": "c1df93e2-97fb-4bcf-80fb-5070ffb1e4bc",
   "metadata": {},
   "outputs": [],
   "source": [
    "fun_search=inv.search_funds(\"name\", \"AXA World Funds - Global Factors\")"
   ]
  },
  {
   "cell_type": "code",
   "execution_count": 58,
   "id": "c1564cc3-2d9c-458e-9b26-926e8a368b30",
   "metadata": {},
   "outputs": [
    {
     "data": {
      "text/html": [
       "<div>\n",
       "<style scoped>\n",
       "    .dataframe tbody tr th:only-of-type {\n",
       "        vertical-align: middle;\n",
       "    }\n",
       "\n",
       "    .dataframe tbody tr th {\n",
       "        vertical-align: top;\n",
       "    }\n",
       "\n",
       "    .dataframe thead th {\n",
       "        text-align: right;\n",
       "    }\n",
       "</style>\n",
       "<table border=\"1\" class=\"dataframe\">\n",
       "  <thead>\n",
       "    <tr style=\"text-align: right;\">\n",
       "      <th></th>\n",
       "      <th>country</th>\n",
       "      <th>name</th>\n",
       "      <th>symbol</th>\n",
       "      <th>issuer</th>\n",
       "      <th>isin</th>\n",
       "      <th>asset_class</th>\n",
       "      <th>currency</th>\n",
       "      <th>underlying</th>\n",
       "    </tr>\n",
       "  </thead>\n",
       "  <tbody>\n",
       "    <tr>\n",
       "      <th>0</th>\n",
       "      <td>luxembourg</td>\n",
       "      <td>Axa World Funds - Global Factors - Sustainable...</td>\n",
       "      <td>0P0000ZBKK</td>\n",
       "      <td>AXA Funds Management S.A.</td>\n",
       "      <td>LU0943665264</td>\n",
       "      <td>equity</td>\n",
       "      <td>USD</td>\n",
       "      <td></td>\n",
       "    </tr>\n",
       "    <tr>\n",
       "      <th>1</th>\n",
       "      <td>luxembourg</td>\n",
       "      <td>Axa World Funds - Global Factors - Sustainable...</td>\n",
       "      <td>0P0000ZBKJ</td>\n",
       "      <td>AXA Funds Management S.A.</td>\n",
       "      <td>LU0943665348</td>\n",
       "      <td>equity</td>\n",
       "      <td>EUR</td>\n",
       "      <td></td>\n",
       "    </tr>\n",
       "  </tbody>\n",
       "</table>\n",
       "</div>"
      ],
      "text/plain": [
       "      country                                               name      symbol  \\\n",
       "0  luxembourg  Axa World Funds - Global Factors - Sustainable...  0P0000ZBKK   \n",
       "1  luxembourg  Axa World Funds - Global Factors - Sustainable...  0P0000ZBKJ   \n",
       "\n",
       "                      issuer          isin asset_class currency underlying  \n",
       "0  AXA Funds Management S.A.  LU0943665264      equity      USD             \n",
       "1  AXA Funds Management S.A.  LU0943665348      equity      EUR             "
      ]
     },
     "execution_count": 58,
     "metadata": {},
     "output_type": "execute_result"
    }
   ],
   "source": [
    "fun_search"
   ]
  },
  {
   "cell_type": "code",
   "execution_count": 64,
   "id": "282fec3d-54e7-405b-9e12-4f598359dcc6",
   "metadata": {},
   "outputs": [],
   "source": [
    "hist_fun=inv.funds.get_fund_historical_data(fun_search[\"name\"][1], fun_search[\"country\"][1], from_date=\"01/01/2020\", to_date=\"01/01/2022\")"
   ]
  },
  {
   "cell_type": "code",
   "execution_count": 65,
   "id": "2f1ccd9a-4d43-4949-8b90-d29af9c28626",
   "metadata": {},
   "outputs": [
    {
     "data": {
      "text/html": [
       "<div>\n",
       "<style scoped>\n",
       "    .dataframe tbody tr th:only-of-type {\n",
       "        vertical-align: middle;\n",
       "    }\n",
       "\n",
       "    .dataframe tbody tr th {\n",
       "        vertical-align: top;\n",
       "    }\n",
       "\n",
       "    .dataframe thead th {\n",
       "        text-align: right;\n",
       "    }\n",
       "</style>\n",
       "<table border=\"1\" class=\"dataframe\">\n",
       "  <thead>\n",
       "    <tr style=\"text-align: right;\">\n",
       "      <th></th>\n",
       "      <th>Open</th>\n",
       "      <th>High</th>\n",
       "      <th>Low</th>\n",
       "      <th>Close</th>\n",
       "      <th>Currency</th>\n",
       "    </tr>\n",
       "    <tr>\n",
       "      <th>Date</th>\n",
       "      <th></th>\n",
       "      <th></th>\n",
       "      <th></th>\n",
       "      <th></th>\n",
       "      <th></th>\n",
       "    </tr>\n",
       "  </thead>\n",
       "  <tbody>\n",
       "    <tr>\n",
       "      <th>2020-01-02</th>\n",
       "      <td>219.73</td>\n",
       "      <td>219.73</td>\n",
       "      <td>219.73</td>\n",
       "      <td>219.73</td>\n",
       "      <td>EUR</td>\n",
       "    </tr>\n",
       "    <tr>\n",
       "      <th>2020-01-03</th>\n",
       "      <td>219.59</td>\n",
       "      <td>219.59</td>\n",
       "      <td>219.59</td>\n",
       "      <td>219.59</td>\n",
       "      <td>EUR</td>\n",
       "    </tr>\n",
       "    <tr>\n",
       "      <th>2020-01-06</th>\n",
       "      <td>219.02</td>\n",
       "      <td>219.02</td>\n",
       "      <td>219.02</td>\n",
       "      <td>219.02</td>\n",
       "      <td>EUR</td>\n",
       "    </tr>\n",
       "    <tr>\n",
       "      <th>2020-01-07</th>\n",
       "      <td>219.43</td>\n",
       "      <td>219.43</td>\n",
       "      <td>219.43</td>\n",
       "      <td>219.43</td>\n",
       "      <td>EUR</td>\n",
       "    </tr>\n",
       "    <tr>\n",
       "      <th>2020-01-08</th>\n",
       "      <td>220.48</td>\n",
       "      <td>220.48</td>\n",
       "      <td>220.48</td>\n",
       "      <td>220.48</td>\n",
       "      <td>EUR</td>\n",
       "    </tr>\n",
       "    <tr>\n",
       "      <th>...</th>\n",
       "      <td>...</td>\n",
       "      <td>...</td>\n",
       "      <td>...</td>\n",
       "      <td>...</td>\n",
       "      <td>...</td>\n",
       "    </tr>\n",
       "    <tr>\n",
       "      <th>2021-12-27</th>\n",
       "      <td>298.80</td>\n",
       "      <td>298.80</td>\n",
       "      <td>298.80</td>\n",
       "      <td>298.80</td>\n",
       "      <td>EUR</td>\n",
       "    </tr>\n",
       "    <tr>\n",
       "      <th>2021-12-28</th>\n",
       "      <td>299.95</td>\n",
       "      <td>299.95</td>\n",
       "      <td>299.95</td>\n",
       "      <td>299.95</td>\n",
       "      <td>EUR</td>\n",
       "    </tr>\n",
       "    <tr>\n",
       "      <th>2021-12-29</th>\n",
       "      <td>299.45</td>\n",
       "      <td>299.45</td>\n",
       "      <td>299.45</td>\n",
       "      <td>299.45</td>\n",
       "      <td>EUR</td>\n",
       "    </tr>\n",
       "    <tr>\n",
       "      <th>2021-12-30</th>\n",
       "      <td>299.06</td>\n",
       "      <td>299.06</td>\n",
       "      <td>299.06</td>\n",
       "      <td>299.06</td>\n",
       "      <td>EUR</td>\n",
       "    </tr>\n",
       "    <tr>\n",
       "      <th>2021-12-31</th>\n",
       "      <td>298.07</td>\n",
       "      <td>298.07</td>\n",
       "      <td>298.07</td>\n",
       "      <td>298.07</td>\n",
       "      <td>EUR</td>\n",
       "    </tr>\n",
       "  </tbody>\n",
       "</table>\n",
       "<p>481 rows × 5 columns</p>\n",
       "</div>"
      ],
      "text/plain": [
       "              Open    High     Low   Close Currency\n",
       "Date                                               \n",
       "2020-01-02  219.73  219.73  219.73  219.73      EUR\n",
       "2020-01-03  219.59  219.59  219.59  219.59      EUR\n",
       "2020-01-06  219.02  219.02  219.02  219.02      EUR\n",
       "2020-01-07  219.43  219.43  219.43  219.43      EUR\n",
       "2020-01-08  220.48  220.48  220.48  220.48      EUR\n",
       "...            ...     ...     ...     ...      ...\n",
       "2021-12-27  298.80  298.80  298.80  298.80      EUR\n",
       "2021-12-28  299.95  299.95  299.95  299.95      EUR\n",
       "2021-12-29  299.45  299.45  299.45  299.45      EUR\n",
       "2021-12-30  299.06  299.06  299.06  299.06      EUR\n",
       "2021-12-31  298.07  298.07  298.07  298.07      EUR\n",
       "\n",
       "[481 rows x 5 columns]"
      ]
     },
     "execution_count": 65,
     "metadata": {},
     "output_type": "execute_result"
    }
   ],
   "source": [
    "hist_fun"
   ]
  },
  {
   "cell_type": "code",
   "execution_count": 66,
   "id": "0e21958c-452a-4ab2-ac56-5629c3c780a4",
   "metadata": {},
   "outputs": [
    {
     "data": {
      "text/html": [
       "<div>\n",
       "<style scoped>\n",
       "    .dataframe tbody tr th:only-of-type {\n",
       "        vertical-align: middle;\n",
       "    }\n",
       "\n",
       "    .dataframe tbody tr th {\n",
       "        vertical-align: top;\n",
       "    }\n",
       "\n",
       "    .dataframe thead th {\n",
       "        text-align: right;\n",
       "    }\n",
       "</style>\n",
       "<table border=\"1\" class=\"dataframe\">\n",
       "  <thead>\n",
       "    <tr style=\"text-align: right;\">\n",
       "      <th></th>\n",
       "      <th>Open</th>\n",
       "      <th>High</th>\n",
       "      <th>Low</th>\n",
       "      <th>Close</th>\n",
       "      <th>Currency</th>\n",
       "    </tr>\n",
       "    <tr>\n",
       "      <th>Date</th>\n",
       "      <th></th>\n",
       "      <th></th>\n",
       "      <th></th>\n",
       "      <th></th>\n",
       "      <th></th>\n",
       "    </tr>\n",
       "  </thead>\n",
       "  <tbody>\n",
       "    <tr>\n",
       "      <th>2021-12-31</th>\n",
       "      <td>298.07</td>\n",
       "      <td>298.07</td>\n",
       "      <td>298.07</td>\n",
       "      <td>298.07</td>\n",
       "      <td>EUR</td>\n",
       "    </tr>\n",
       "  </tbody>\n",
       "</table>\n",
       "</div>"
      ],
      "text/plain": [
       "              Open    High     Low   Close Currency\n",
       "Date                                               \n",
       "2021-12-31  298.07  298.07  298.07  298.07      EUR"
      ]
     },
     "execution_count": 66,
     "metadata": {},
     "output_type": "execute_result"
    }
   ],
   "source": [
    "hist_fun[-1:]"
   ]
  },
  {
   "cell_type": "code",
   "execution_count": 67,
   "id": "29543737-ef25-440a-a585-b7f448a1c3d8",
   "metadata": {},
   "outputs": [
    {
     "data": {
      "text/html": [
       "<div>\n",
       "<style scoped>\n",
       "    .dataframe tbody tr th:only-of-type {\n",
       "        vertical-align: middle;\n",
       "    }\n",
       "\n",
       "    .dataframe tbody tr th {\n",
       "        vertical-align: top;\n",
       "    }\n",
       "\n",
       "    .dataframe thead th {\n",
       "        text-align: right;\n",
       "    }\n",
       "</style>\n",
       "<table border=\"1\" class=\"dataframe\">\n",
       "  <thead>\n",
       "    <tr style=\"text-align: right;\">\n",
       "      <th></th>\n",
       "      <th>name</th>\n",
       "      <th>symbol</th>\n",
       "      <th>currency</th>\n",
       "    </tr>\n",
       "  </thead>\n",
       "  <tbody>\n",
       "    <tr>\n",
       "      <th>0</th>\n",
       "      <td>Bitcoin</td>\n",
       "      <td>BTC</td>\n",
       "      <td>USD</td>\n",
       "    </tr>\n",
       "    <tr>\n",
       "      <th>1</th>\n",
       "      <td>Ethereum</td>\n",
       "      <td>ETH</td>\n",
       "      <td>USD</td>\n",
       "    </tr>\n",
       "    <tr>\n",
       "      <th>2</th>\n",
       "      <td>Binance Coin</td>\n",
       "      <td>BNB</td>\n",
       "      <td>USD</td>\n",
       "    </tr>\n",
       "    <tr>\n",
       "      <th>3</th>\n",
       "      <td>Tether</td>\n",
       "      <td>USDT</td>\n",
       "      <td>USD</td>\n",
       "    </tr>\n",
       "    <tr>\n",
       "      <th>4</th>\n",
       "      <td>Cardano</td>\n",
       "      <td>ADA</td>\n",
       "      <td>USD</td>\n",
       "    </tr>\n",
       "    <tr>\n",
       "      <th>...</th>\n",
       "      <td>...</td>\n",
       "      <td>...</td>\n",
       "      <td>...</td>\n",
       "    </tr>\n",
       "    <tr>\n",
       "      <th>1032</th>\n",
       "      <td>United Bitcoin</td>\n",
       "      <td>UBTC</td>\n",
       "      <td>USD</td>\n",
       "    </tr>\n",
       "    <tr>\n",
       "      <th>1033</th>\n",
       "      <td>CryptoWorldX Token</td>\n",
       "      <td>CWXT</td>\n",
       "      <td>USD</td>\n",
       "    </tr>\n",
       "    <tr>\n",
       "      <th>1034</th>\n",
       "      <td>Cryptoindex.com 100</td>\n",
       "      <td>CIX100</td>\n",
       "      <td>USD</td>\n",
       "    </tr>\n",
       "    <tr>\n",
       "      <th>1035</th>\n",
       "      <td>Digital Bullion Gold</td>\n",
       "      <td>DBG</td>\n",
       "      <td>USD</td>\n",
       "    </tr>\n",
       "    <tr>\n",
       "      <th>1036</th>\n",
       "      <td>Advanced Internet Blocks</td>\n",
       "      <td>AIB</td>\n",
       "      <td>USD</td>\n",
       "    </tr>\n",
       "  </tbody>\n",
       "</table>\n",
       "<p>1037 rows × 3 columns</p>\n",
       "</div>"
      ],
      "text/plain": [
       "                          name  symbol currency\n",
       "0                      Bitcoin     BTC      USD\n",
       "1                     Ethereum     ETH      USD\n",
       "2                 Binance Coin     BNB      USD\n",
       "3                       Tether    USDT      USD\n",
       "4                      Cardano     ADA      USD\n",
       "...                        ...     ...      ...\n",
       "1032            United Bitcoin    UBTC      USD\n",
       "1033        CryptoWorldX Token    CWXT      USD\n",
       "1034       Cryptoindex.com 100  CIX100      USD\n",
       "1035      Digital Bullion Gold     DBG      USD\n",
       "1036  Advanced Internet Blocks     AIB      USD\n",
       "\n",
       "[1037 rows x 3 columns]"
      ]
     },
     "execution_count": 67,
     "metadata": {},
     "output_type": "execute_result"
    }
   ],
   "source": [
    "inv.get_cryptos()"
   ]
  },
  {
   "cell_type": "code",
   "execution_count": null,
   "id": "64a03b93-542a-4135-97fd-52b3066597b7",
   "metadata": {},
   "outputs": [],
   "source": []
  }
 ],
 "metadata": {
  "kernelspec": {
   "display_name": "Python 3 (ipykernel)",
   "language": "python",
   "name": "python3"
  },
  "language_info": {
   "codemirror_mode": {
    "name": "ipython",
    "version": 3
   },
   "file_extension": ".py",
   "mimetype": "text/x-python",
   "name": "python",
   "nbconvert_exporter": "python",
   "pygments_lexer": "ipython3",
   "version": "3.7.12"
  }
 },
 "nbformat": 4,
 "nbformat_minor": 5
}
