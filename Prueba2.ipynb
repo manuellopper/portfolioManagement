{
 "cells": [
  {
   "cell_type": "code",
   "execution_count": 1,
   "id": "d8850a4e-5d10-4a3d-be63-7e492362da41",
   "metadata": {},
   "outputs": [],
   "source": [
    "import pfmanager.engine as pm\n",
    "import pfmanager.currency as cu\n",
    "from datetime import date"
   ]
  },
  {
   "cell_type": "code",
   "execution_count": 2,
   "id": "3c3c334e-8f3c-4c55-8c40-fa9f0b81b643",
   "metadata": {},
   "outputs": [],
   "source": [
    "pf=pm.Portfolio(\"De Giro\")\n",
    "acc=pm.Account(\"Cuenta de accciones\")\n",
    "acc.register_portfolio(pf)"
   ]
  },
  {
   "cell_type": "code",
   "execution_count": 3,
   "id": "4d7bcaa8-6eb7-47af-a70b-3270c83e30fa",
   "metadata": {},
   "outputs": [],
   "source": [
    "pf.register_asset(pm.AssetEquity(\"Telefónica SA\",\"EUR\",\"TEF.MC\"))"
   ]
  },
  {
   "cell_type": "code",
   "execution_count": 4,
   "id": "e7bf6515-6b40-4857-8801-62eeaf4b65f3",
   "metadata": {},
   "outputs": [],
   "source": [
    "tr1 = pm.TransactionBuy(10,cu.Currency(100),cu.Currency(2.5),date_transaction=date(2020,5,3) )\n",
    "pf.get_asset(symbol=\"TEF.MC\").register_transaction(tr1)"
   ]
  },
  {
   "cell_type": "code",
   "execution_count": 5,
   "id": "1658d90e-5f5b-4f2e-b7c7-2ee7315307e1",
   "metadata": {},
   "outputs": [],
   "source": [
    "tr2 = pm.TransactionBuy(5,cu.Currency(110),cu.Currency(2.5),date_transaction=date(2020,6,4) )\n",
    "pf.get_asset(symbol=\"TEF.MC\").register_transaction(tr2)"
   ]
  },
  {
   "cell_type": "code",
   "execution_count": 6,
   "id": "2528759b-3224-4fc5-926d-34b17a2f708c",
   "metadata": {},
   "outputs": [],
   "source": [
    "tr3 = pm.TransactionSell(4,cu.Currency(115),cu.Currency(2.5),date_transaction=date(2021,2,10) )\n",
    "pf.get_asset(symbol=\"TEF.MC\").register_transaction(tr3)"
   ]
  },
  {
   "cell_type": "code",
   "execution_count": 8,
   "id": "20c6aab9-b41a-427f-8bc4-d3f3792a40a4",
   "metadata": {},
   "outputs": [],
   "source": [
    "tr4 = pm.TransactionSell(10,cu.Currency(110),cu.Currency(2.5),date_transaction=date(2021,5,12) )\n",
    "pf.get_asset(symbol=\"TEF.MC\").register_transaction(tr4)"
   ]
  },
  {
   "cell_type": "code",
   "execution_count": 9,
   "id": "46d22d81-bb0b-4447-a146-d33bdf624c19",
   "metadata": {},
   "outputs": [],
   "source": [
    "tr5 = pm.TransactionDividend(cu.Currency(10),taxes=cu.Currency(1.5),date_transaction=date(2021,12,12) )\n",
    "pf.get_asset(symbol=\"TEF.MC\").register_transaction(tr5)"
   ]
  },
  {
   "cell_type": "code",
   "execution_count": 10,
   "id": "10d24182-181a-4a03-8655-e319c1ccd0f5",
   "metadata": {},
   "outputs": [],
   "source": [
    "pf.update_portfolio( update_assets=True)"
   ]
  },
  {
   "cell_type": "code",
   "execution_count": 11,
   "id": "b7258a54-5fbe-4fcb-9c9e-bb78b0d1c574",
   "metadata": {},
   "outputs": [
    {
     "data": {
      "text/html": [
       "<div>\n",
       "<style scoped>\n",
       "    .dataframe tbody tr th:only-of-type {\n",
       "        vertical-align: middle;\n",
       "    }\n",
       "\n",
       "    .dataframe tbody tr th {\n",
       "        vertical-align: top;\n",
       "    }\n",
       "\n",
       "    .dataframe thead th {\n",
       "        text-align: right;\n",
       "    }\n",
       "</style>\n",
       "<table border=\"1\" class=\"dataframe\">\n",
       "  <thead>\n",
       "    <tr style=\"text-align: right;\">\n",
       "      <th></th>\n",
       "      <th>Name</th>\n",
       "      <th>Shares</th>\n",
       "      <th>Market Value</th>\n",
       "      <th>TOTAL BENEFIT</th>\n",
       "      <th>POTENCIAL BENEFIT</th>\n",
       "      <th>P.B. relative</th>\n",
       "      <th>Pot. Currency Benefit</th>\n",
       "      <th>Pot. Product Benefit</th>\n",
       "      <th>CURRENT BENEFIT</th>\n",
       "      <th>Curr. Currency Benefit</th>\n",
       "      <th>Curr. Product Benefit</th>\n",
       "    </tr>\n",
       "  </thead>\n",
       "  <tbody>\n",
       "    <tr>\n",
       "      <th>TEF.MC</th>\n",
       "      <td>Telefónica SA</td>\n",
       "      <td>-9</td>\n",
       "      <td>-35.005499</td>\n",
       "      <td>116.0</td>\n",
       "      <td>0</td>\n",
       "      <td>0.0</td>\n",
       "      <td>0</td>\n",
       "      <td>0</td>\n",
       "      <td>116.0</td>\n",
       "      <td>0.0</td>\n",
       "      <td>116.0</td>\n",
       "    </tr>\n",
       "  </tbody>\n",
       "</table>\n",
       "</div>"
      ],
      "text/plain": [
       "                 Name  Shares  Market Value  TOTAL BENEFIT  POTENCIAL BENEFIT  \\\n",
       "TEF.MC  Telefónica SA      -9    -35.005499          116.0                  0   \n",
       "\n",
       "        P.B. relative  Pot. Currency Benefit  Pot. Product Benefit  \\\n",
       "TEF.MC            0.0                      0                     0   \n",
       "\n",
       "        CURRENT BENEFIT  Curr. Currency Benefit  Curr. Product Benefit  \n",
       "TEF.MC            116.0                     0.0                  116.0  "
      ]
     },
     "execution_count": 11,
     "metadata": {},
     "output_type": "execute_result"
    }
   ],
   "source": [
    "pf.get_assets_info_dataframe()"
   ]
  },
  {
   "cell_type": "code",
   "execution_count": 12,
   "id": "22282a6e-6b85-4caf-867f-62ae52eead11",
   "metadata": {},
   "outputs": [
    {
     "data": {
      "text/html": [
       "<div>\n",
       "<style scoped>\n",
       "    .dataframe tbody tr th:only-of-type {\n",
       "        vertical-align: middle;\n",
       "    }\n",
       "\n",
       "    .dataframe tbody tr th {\n",
       "        vertical-align: top;\n",
       "    }\n",
       "\n",
       "    .dataframe thead th {\n",
       "        text-align: right;\n",
       "    }\n",
       "</style>\n",
       "<table border=\"1\" class=\"dataframe\">\n",
       "  <thead>\n",
       "    <tr style=\"text-align: right;\">\n",
       "      <th></th>\n",
       "      <th>Valores</th>\n",
       "    </tr>\n",
       "  </thead>\n",
       "  <tbody>\n",
       "    <tr>\n",
       "      <th>Name</th>\n",
       "      <td>Telefónica SA</td>\n",
       "    </tr>\n",
       "    <tr>\n",
       "      <th>Type</th>\n",
       "      <td>Equity</td>\n",
       "    </tr>\n",
       "    <tr>\n",
       "      <th>Currency</th>\n",
       "      <td>EUR</td>\n",
       "    </tr>\n",
       "    <tr>\n",
       "      <th>Num. of shares</th>\n",
       "      <td>-9</td>\n",
       "    </tr>\n",
       "    <tr>\n",
       "      <th>Market value</th>\n",
       "      <td>-35.005499</td>\n",
       "    </tr>\n",
       "    <tr>\n",
       "      <th>Underlying cost</th>\n",
       "      <td>110</td>\n",
       "    </tr>\n",
       "    <tr>\n",
       "      <th>TOTAL P/L</th>\n",
       "      <td>116.0</td>\n",
       "    </tr>\n",
       "    <tr>\n",
       "      <th>POTENTIAL P/L</th>\n",
       "      <td>0</td>\n",
       "    </tr>\n",
       "    <tr>\n",
       "      <th>- Pot. product P/L</th>\n",
       "      <td>0</td>\n",
       "    </tr>\n",
       "    <tr>\n",
       "      <th>- Pot. currency P/L</th>\n",
       "      <td>0</td>\n",
       "    </tr>\n",
       "    <tr>\n",
       "      <th>CURRENT P/L</th>\n",
       "      <td>116.0</td>\n",
       "    </tr>\n",
       "    <tr>\n",
       "      <th>- Curr. product P/L</th>\n",
       "      <td>116.0</td>\n",
       "    </tr>\n",
       "    <tr>\n",
       "      <th>- Curr. currency P/L</th>\n",
       "      <td>0.0</td>\n",
       "    </tr>\n",
       "    <tr>\n",
       "      <th>Dividends</th>\n",
       "      <td>10</td>\n",
       "    </tr>\n",
       "    <tr>\n",
       "      <th>Commissions</th>\n",
       "      <td>12.5</td>\n",
       "    </tr>\n",
       "    <tr>\n",
       "      <th>Taxes</th>\n",
       "      <td>1.5</td>\n",
       "    </tr>\n",
       "  </tbody>\n",
       "</table>\n",
       "</div>"
      ],
      "text/plain": [
       "                            Valores\n",
       "Name                  Telefónica SA\n",
       "Type                         Equity\n",
       "Currency                        EUR\n",
       "Num. of shares                   -9\n",
       "Market value             -35.005499\n",
       "Underlying cost                 110\n",
       "TOTAL P/L                     116.0\n",
       "POTENTIAL P/L                     0\n",
       "- Pot. product P/L                0\n",
       "- Pot. currency P/L               0\n",
       "CURRENT P/L                   116.0\n",
       "- Curr. product P/L           116.0\n",
       "- Curr. currency P/L            0.0\n",
       "Dividends                        10\n",
       "Commissions                    12.5\n",
       "Taxes                           1.5"
      ]
     },
     "execution_count": 12,
     "metadata": {},
     "output_type": "execute_result"
    }
   ],
   "source": [
    "pf.get_asset(symbol=\"TEF.MC\").get_info_dataframe()"
   ]
  },
  {
   "cell_type": "code",
   "execution_count": null,
   "id": "d975a173-a9d4-4136-ab51-438e6bb905db",
   "metadata": {},
   "outputs": [],
   "source": []
  }
 ],
 "metadata": {
  "kernelspec": {
   "display_name": "Python 3 (ipykernel)",
   "language": "python",
   "name": "python3"
  },
  "language_info": {
   "codemirror_mode": {
    "name": "ipython",
    "version": 3
   },
   "file_extension": ".py",
   "mimetype": "text/x-python",
   "name": "python",
   "nbconvert_exporter": "python",
   "pygments_lexer": "ipython3",
   "version": "3.7.12"
  }
 },
 "nbformat": 4,
 "nbformat_minor": 5
}
