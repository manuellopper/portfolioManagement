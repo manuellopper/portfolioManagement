{
 "cells": [
  {
   "cell_type": "code",
   "execution_count": 2,
   "id": "d8850a4e-5d10-4a3d-be63-7e492362da41",
   "metadata": {},
   "outputs": [],
   "source": [
    "import pfmanager.engine as pm\n",
    "import pfmanager.currency as cu\n",
    "from datetime import date"
   ]
  },
  {
   "cell_type": "code",
   "execution_count": 3,
   "id": "3c3c334e-8f3c-4c55-8c40-fa9f0b81b643",
   "metadata": {},
   "outputs": [],
   "source": [
    "pf=pm.Portfolio(\"De Giro\")\n",
    "acc=pm.Account(\"Cuenta de accciones\")\n",
    "acc.register_portfolio(pf)"
   ]
  },
  {
   "cell_type": "code",
   "execution_count": 4,
   "id": "4d7bcaa8-6eb7-47af-a70b-3270c83e30fa",
   "metadata": {},
   "outputs": [],
   "source": [
    "pf.register_asset(pm.AssetEquity(\"Telefónica SA\",\"EUR\",\"TEF.MC\"))"
   ]
  },
  {
   "cell_type": "code",
   "execution_count": 5,
   "id": "e7bf6515-6b40-4857-8801-62eeaf4b65f3",
   "metadata": {},
   "outputs": [],
   "source": [
    "tr1 = pm.TransactionBuy(10,cu.Currency(100),cu.Currency(2.5),date_transaction=date(2020,5,3) )\n",
    "pf.get_asset(symbol=\"TEF.MC\").register_transaction(tr1)"
   ]
  },
  {
   "cell_type": "code",
   "execution_count": 6,
   "id": "1658d90e-5f5b-4f2e-b7c7-2ee7315307e1",
   "metadata": {},
   "outputs": [],
   "source": [
    "tr2 = pm.TransactionBuy(5,cu.Currency(110),cu.Currency(2.5),date_transaction=date(2020,6,4) )\n",
    "pf.get_asset(symbol=\"TEF.MC\").register_transaction(tr2)"
   ]
  },
  {
   "cell_type": "code",
   "execution_count": 7,
   "id": "2528759b-3224-4fc5-926d-34b17a2f708c",
   "metadata": {},
   "outputs": [],
   "source": [
    "tr3 = pm.TransactionSell(4,cu.Currency(115),cu.Currency(2.5),date_transaction=date(2021,2,10) )\n",
    "pf.get_asset(symbol=\"TEF.MC\").register_transaction(tr3)"
   ]
  },
  {
   "cell_type": "code",
   "execution_count": null,
   "id": "20c6aab9-b41a-427f-8bc4-d3f3792a40a4",
   "metadata": {},
   "outputs": [],
   "source": [
    "tr4 = pm.TransactionSell(10,cu.Currency(110),cu.Currency(2.5),date_transaction=date(2021,5,12) )\n",
    "\n",
    "pf.get_asset(symbol=\"TEF.MC\").register_transaction(tr4)"
   ]
  }
 ],
 "metadata": {
  "kernelspec": {
   "display_name": "Python 3 (ipykernel)",
   "language": "python",
   "name": "python3"
  },
  "language_info": {
   "codemirror_mode": {
    "name": "ipython",
    "version": 3
   },
   "file_extension": ".py",
   "mimetype": "text/x-python",
   "name": "python",
   "nbconvert_exporter": "python",
   "pygments_lexer": "ipython3",
   "version": "3.7.12"
  }
 },
 "nbformat": 4,
 "nbformat_minor": 5
}
