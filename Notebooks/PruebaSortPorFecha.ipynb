{
 "cells": [
  {
   "cell_type": "code",
   "execution_count": 8,
   "id": "bd7f1690",
   "metadata": {},
   "outputs": [],
   "source": [
    "from datetime import date"
   ]
  },
  {
   "cell_type": "code",
   "execution_count": 9,
   "id": "28fe1ff4",
   "metadata": {},
   "outputs": [],
   "source": [
    "fecha = date.today()"
   ]
  },
  {
   "cell_type": "code",
   "execution_count": 10,
   "id": "82c87833",
   "metadata": {},
   "outputs": [
    {
     "name": "stdout",
     "output_type": "stream",
     "text": [
      "2021-12-22\n"
     ]
    }
   ],
   "source": [
    "print(fecha)"
   ]
  },
  {
   "cell_type": "code",
   "execution_count": 11,
   "id": "f377cfb7",
   "metadata": {},
   "outputs": [],
   "source": [
    "class Asset:\n",
    "    def __init__(self):\n",
    "        self.list_transactions=[]\n",
    "\n",
    "class Transaction:\n",
    "    def __init__(self, fecha, numero):\n",
    "        self.fecha = fecha\n",
    "        self.numero = numero\n",
    "        "
   ]
  },
  {
   "cell_type": "code",
   "execution_count": 14,
   "id": "fdfbc264",
   "metadata": {},
   "outputs": [],
   "source": [
    "t1 = Transaction(date(2020,11,10), 20)"
   ]
  },
  {
   "cell_type": "code",
   "execution_count": 15,
   "id": "69f90eac",
   "metadata": {},
   "outputs": [],
   "source": [
    "t2 = Transaction(date(2020,12,3), 22)"
   ]
  },
  {
   "cell_type": "code",
   "execution_count": 16,
   "id": "9a18cf61",
   "metadata": {},
   "outputs": [],
   "source": [
    "t3 = Transaction(date(2021,3,4), 25)"
   ]
  },
  {
   "cell_type": "code",
   "execution_count": 18,
   "id": "d5d2d6e0",
   "metadata": {},
   "outputs": [],
   "source": [
    "t4 = Transaction(date(2021,5,7), 30)"
   ]
  },
  {
   "cell_type": "code",
   "execution_count": 19,
   "id": "00318af4",
   "metadata": {},
   "outputs": [],
   "source": [
    "activo = Asset()"
   ]
  },
  {
   "cell_type": "code",
   "execution_count": 20,
   "id": "0165ba87",
   "metadata": {},
   "outputs": [],
   "source": [
    "activo.list_transactions.append(t4)"
   ]
  },
  {
   "cell_type": "code",
   "execution_count": 21,
   "id": "bb112db6",
   "metadata": {},
   "outputs": [],
   "source": [
    "activo.list_transactions.append(t2)"
   ]
  },
  {
   "cell_type": "code",
   "execution_count": 22,
   "id": "2cf616ff",
   "metadata": {},
   "outputs": [],
   "source": [
    "activo.list_transactions.append(t3)"
   ]
  },
  {
   "cell_type": "code",
   "execution_count": 23,
   "id": "1e57b857",
   "metadata": {},
   "outputs": [],
   "source": [
    "activo.list_transactions.append(t1)"
   ]
  },
  {
   "cell_type": "code",
   "execution_count": 25,
   "id": "af848d98",
   "metadata": {},
   "outputs": [
    {
     "name": "stdout",
     "output_type": "stream",
     "text": [
      "Fecha:  2021-05-07 Número:  30\n",
      "Fecha:  2020-12-03 Número:  22\n",
      "Fecha:  2021-03-04 Número:  25\n",
      "Fecha:  2020-11-10 Número:  20\n"
     ]
    }
   ],
   "source": [
    "for tr in activo.list_transactions:\n",
    "    print(\"Fecha: \",tr.fecha, \"Número: \", tr.numero)"
   ]
  },
  {
   "cell_type": "code",
   "execution_count": 26,
   "id": "46490125",
   "metadata": {},
   "outputs": [],
   "source": [
    "def myFuncion(element):\n",
    "    return element.fecha"
   ]
  },
  {
   "cell_type": "code",
   "execution_count": 28,
   "id": "3d9d1839",
   "metadata": {},
   "outputs": [],
   "source": [
    "activo.list_transactions.sort(key=myFuncion)"
   ]
  },
  {
   "cell_type": "code",
   "execution_count": 29,
   "id": "90f8c47a",
   "metadata": {},
   "outputs": [
    {
     "name": "stdout",
     "output_type": "stream",
     "text": [
      "Fecha:  2020-11-10 Número:  20\n",
      "Fecha:  2020-12-03 Número:  22\n",
      "Fecha:  2021-03-04 Número:  25\n",
      "Fecha:  2021-05-07 Número:  30\n"
     ]
    }
   ],
   "source": [
    "for tr in activo.list_transactions:\n",
    "    print(\"Fecha: \",tr.fecha, \"Número: \", tr.numero)"
   ]
  },
  {
   "cell_type": "code",
   "execution_count": null,
   "id": "14ceae6e",
   "metadata": {},
   "outputs": [],
   "source": []
  }
 ],
 "metadata": {
  "kernelspec": {
   "display_name": "Python 3",
   "language": "python",
   "name": "python3"
  },
  "language_info": {
   "codemirror_mode": {
    "name": "ipython",
    "version": 3
   },
   "file_extension": ".py",
   "mimetype": "text/x-python",
   "name": "python",
   "nbconvert_exporter": "python",
   "pygments_lexer": "ipython3",
   "version": "3.6.13"
  }
 },
 "nbformat": 4,
 "nbformat_minor": 5
}
