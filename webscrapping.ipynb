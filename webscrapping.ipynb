{
 "cells": [
  {
   "cell_type": "markdown",
   "id": "cbd020ad-2f6d-45a0-bf25-fd4956e72700",
   "metadata": {},
   "source": [
    "pip install beautifulsoup4 (versión 4.10.0 )\n",
    "pip install lxml (versión 4.7.1 )"
   ]
  },
  {
   "cell_type": "code",
   "execution_count": 1,
   "id": "7ab7e998-aa4b-44f6-b1e7-c8e3b2088e50",
   "metadata": {},
   "outputs": [],
   "source": [
    "import requests\n",
    "from bs4 import BeautifulSoup"
   ]
  },
  {
   "cell_type": "code",
   "execution_count": 2,
   "id": "2dd785cb-0e4b-4759-9b82-6543f1298790",
   "metadata": {},
   "outputs": [],
   "source": [
    "url=\"https://www.morningstar.es/es/funds/snapshot/snapshot.aspx?id=F00001060D\""
   ]
  },
  {
   "cell_type": "code",
   "execution_count": 3,
   "id": "c1617825-4226-4cc1-8cf7-da0191232c44",
   "metadata": {},
   "outputs": [],
   "source": [
    "r = requests.get(url)"
   ]
  },
  {
   "cell_type": "code",
   "execution_count": 4,
   "id": "a24a3831-74a3-4a1b-962d-da7882d38883",
   "metadata": {},
   "outputs": [
    {
     "data": {
      "text/plain": [
       "requests.models.Response"
      ]
     },
     "execution_count": 4,
     "metadata": {},
     "output_type": "execute_result"
    }
   ],
   "source": [
    "type(r)"
   ]
  },
  {
   "cell_type": "code",
   "execution_count": 5,
   "id": "71fd7c73-db04-4793-b436-4a4183727d2b",
   "metadata": {},
   "outputs": [
    {
     "name": "stdout",
     "output_type": "stream",
     "text": [
      "<Response [200]>\n"
     ]
    }
   ],
   "source": [
    "print(r)"
   ]
  },
  {
   "cell_type": "code",
   "execution_count": 6,
   "id": "0bd54c4b-6134-41e2-a19e-b1ff2e2e9056",
   "metadata": {},
   "outputs": [
    {
     "data": {
      "text/plain": [
       "True"
      ]
     },
     "execution_count": 6,
     "metadata": {},
     "output_type": "execute_result"
    }
   ],
   "source": [
    "r.ok"
   ]
  },
  {
   "cell_type": "code",
   "execution_count": 7,
   "id": "8582a452-f973-4e7f-adb5-56de5dc284c3",
   "metadata": {},
   "outputs": [],
   "source": [
    "soup = BeautifulSoup(r.text, 'lxml')"
   ]
  },
  {
   "cell_type": "code",
   "execution_count": 8,
   "id": "e1335ff4-1e53-4e83-ad3e-a73dd122cec0",
   "metadata": {},
   "outputs": [
    {
     "data": {
      "text/plain": [
       "bs4.BeautifulSoup"
      ]
     },
     "execution_count": 8,
     "metadata": {},
     "output_type": "execute_result"
    }
   ],
   "source": [
    "type(soup)"
   ]
  },
  {
   "cell_type": "code",
   "execution_count": 9,
   "id": "7f8a68e1-09d2-4f34-bfff-032cb8d5a3a7",
   "metadata": {},
   "outputs": [
    {
     "data": {
      "text/plain": [
       "['ASCII_SPACES',\n",
       " 'DEFAULT_BUILDER_FEATURES',\n",
       " 'DEFAULT_INTERESTING_STRING_TYPES',\n",
       " 'NO_PARSER_SPECIFIED_WARNING',\n",
       " 'ROOT_TAG_NAME',\n",
       " '__bool__',\n",
       " '__call__',\n",
       " '__class__',\n",
       " '__contains__',\n",
       " '__copy__',\n",
       " '__delattr__',\n",
       " '__delitem__',\n",
       " '__dict__',\n",
       " '__dir__',\n",
       " '__doc__',\n",
       " '__eq__',\n",
       " '__format__',\n",
       " '__ge__',\n",
       " '__getattr__',\n",
       " '__getattribute__',\n",
       " '__getitem__',\n",
       " '__getstate__',\n",
       " '__gt__',\n",
       " '__hash__',\n",
       " '__init__',\n",
       " '__init_subclass__',\n",
       " '__iter__',\n",
       " '__le__',\n",
       " '__len__',\n",
       " '__lt__',\n",
       " '__module__',\n",
       " '__ne__',\n",
       " '__new__',\n",
       " '__reduce__',\n",
       " '__reduce_ex__',\n",
       " '__repr__',\n",
       " '__setattr__',\n",
       " '__setitem__',\n",
       " '__sizeof__',\n",
       " '__str__',\n",
       " '__subclasshook__',\n",
       " '__unicode__',\n",
       " '__weakref__',\n",
       " '_all_strings',\n",
       " '_check_markup_is_url',\n",
       " '_decode_markup',\n",
       " '_feed',\n",
       " '_find_all',\n",
       " '_find_one',\n",
       " '_is_xml',\n",
       " '_lastRecursiveChild',\n",
       " '_last_descendant',\n",
       " '_linkage_fixer',\n",
       " '_most_recent_element',\n",
       " '_namespaces',\n",
       " '_popToTag',\n",
       " '_should_pretty_print',\n",
       " 'append',\n",
       " 'attrs',\n",
       " 'builder',\n",
       " 'can_be_empty_element',\n",
       " 'cdata_list_attributes',\n",
       " 'childGenerator',\n",
       " 'children',\n",
       " 'clear',\n",
       " 'contains_replacement_characters',\n",
       " 'contents',\n",
       " 'currentTag',\n",
       " 'current_data',\n",
       " 'declared_html_encoding',\n",
       " 'decode',\n",
       " 'decode_contents',\n",
       " 'decompose',\n",
       " 'decomposed',\n",
       " 'default',\n",
       " 'descendants',\n",
       " 'element_classes',\n",
       " 'encode',\n",
       " 'encode_contents',\n",
       " 'endData',\n",
       " 'extend',\n",
       " 'extract',\n",
       " 'fetchNextSiblings',\n",
       " 'fetchParents',\n",
       " 'fetchPrevious',\n",
       " 'fetchPreviousSiblings',\n",
       " 'find',\n",
       " 'findAll',\n",
       " 'findAllNext',\n",
       " 'findAllPrevious',\n",
       " 'findChild',\n",
       " 'findChildren',\n",
       " 'findNext',\n",
       " 'findNextSibling',\n",
       " 'findNextSiblings',\n",
       " 'findParent',\n",
       " 'findParents',\n",
       " 'findPrevious',\n",
       " 'findPreviousSibling',\n",
       " 'findPreviousSiblings',\n",
       " 'find_all',\n",
       " 'find_all_next',\n",
       " 'find_all_previous',\n",
       " 'find_next',\n",
       " 'find_next_sibling',\n",
       " 'find_next_siblings',\n",
       " 'find_parent',\n",
       " 'find_parents',\n",
       " 'find_previous',\n",
       " 'find_previous_sibling',\n",
       " 'find_previous_siblings',\n",
       " 'format_string',\n",
       " 'formatter_for_name',\n",
       " 'get',\n",
       " 'getText',\n",
       " 'get_attribute_list',\n",
       " 'get_text',\n",
       " 'handle_data',\n",
       " 'handle_endtag',\n",
       " 'handle_starttag',\n",
       " 'has_attr',\n",
       " 'has_key',\n",
       " 'hidden',\n",
       " 'index',\n",
       " 'insert',\n",
       " 'insert_after',\n",
       " 'insert_before',\n",
       " 'interesting_string_types',\n",
       " 'isSelfClosing',\n",
       " 'is_empty_element',\n",
       " 'is_xml',\n",
       " 'known_xml',\n",
       " 'markup',\n",
       " 'name',\n",
       " 'namespace',\n",
       " 'new_string',\n",
       " 'new_tag',\n",
       " 'next',\n",
       " 'nextGenerator',\n",
       " 'nextSibling',\n",
       " 'nextSiblingGenerator',\n",
       " 'next_element',\n",
       " 'next_elements',\n",
       " 'next_sibling',\n",
       " 'next_siblings',\n",
       " 'object_was_parsed',\n",
       " 'open_tag_counter',\n",
       " 'original_encoding',\n",
       " 'parent',\n",
       " 'parentGenerator',\n",
       " 'parents',\n",
       " 'parse_only',\n",
       " 'parserClass',\n",
       " 'parser_class',\n",
       " 'popTag',\n",
       " 'prefix',\n",
       " 'preserve_whitespace_tag_stack',\n",
       " 'preserve_whitespace_tags',\n",
       " 'prettify',\n",
       " 'previous',\n",
       " 'previousGenerator',\n",
       " 'previousSibling',\n",
       " 'previousSiblingGenerator',\n",
       " 'previous_element',\n",
       " 'previous_elements',\n",
       " 'previous_sibling',\n",
       " 'previous_siblings',\n",
       " 'pushTag',\n",
       " 'recursiveChildGenerator',\n",
       " 'renderContents',\n",
       " 'replaceWith',\n",
       " 'replaceWithChildren',\n",
       " 'replace_with',\n",
       " 'replace_with_children',\n",
       " 'reset',\n",
       " 'select',\n",
       " 'select_one',\n",
       " 'setup',\n",
       " 'smooth',\n",
       " 'string',\n",
       " 'string_container',\n",
       " 'string_container_stack',\n",
       " 'strings',\n",
       " 'stripped_strings',\n",
       " 'tagStack',\n",
       " 'text',\n",
       " 'unwrap',\n",
       " 'wrap']"
      ]
     },
     "execution_count": 9,
     "metadata": {},
     "output_type": "execute_result"
    }
   ],
   "source": [
    "dir(soup)"
   ]
  },
  {
   "cell_type": "code",
   "execution_count": 10,
   "id": "e5c14037-5959-48f7-a566-bcb7dd5df342",
   "metadata": {},
   "outputs": [],
   "source": [
    "divs=soup.find(\"div\", {\"id\": \"overviewCalenderYearReturnsDiv\"})"
   ]
  },
  {
   "cell_type": "code",
   "execution_count": 11,
   "id": "1177d561-e474-4e8c-a50c-eceb6db114c8",
   "metadata": {},
   "outputs": [
    {
     "data": {
      "text/plain": [
       "<div id=\"overviewCalenderYearReturnsDiv\"><table border=\"0\" class=\"snapshotTextColor snapshotTextFontStyle snapshotTable overviewCalenderYearReturnsTable\"><tr><td class=\"col1\"><img alt=\"\" class=\"iconList\" src=\"/includes/images/iconListSmall.gif\" style=\"background-color:#CE0000\"/></td><td class=\"col2 label\">Fondo</td><td class=\"col3 value number\">6,6</td><td class=\"col4 value number\">-0,6</td><td class=\"col5 value number\">29,5</td><td class=\"col6 value number\">2,1</td><td class=\"col7 value number\">26,5</td></tr><tr><td class=\"col1\"><img alt=\"\" class=\"iconList\" src=\"/includes/images/iconListSmall.gif\" style=\"background-color:#FF9A63\"/></td><td class=\"col2 label\">+/-Cat</td><td class=\"col3 value number\">-1,6</td><td class=\"col4 value number\">7,1</td><td class=\"col5 value number\">3,4</td><td class=\"col6 value number\">-2,6</td><td class=\"col7 value number\">4,5</td></tr><tr><td class=\"col1\"><img alt=\"\" class=\"iconList\" src=\"/includes/images/iconListSmall.gif\" style=\"background-color:#99CF00\"/></td><td class=\"col2 label\" nowrap=\"\" style=\"white-space: nowrap ! important\">+/-Ind</td><td class=\"col3 value number\">-2,3</td><td class=\"col4 value number\">4,3</td><td class=\"col5 value number\">0,6</td><td class=\"col6 value number\">-4,5</td><td class=\"col7 value number\">2,6</td></tr><tr><td class=\"spacer\" colspan=\"7\"> </td></tr><tr><td class=\"line\" colspan=\"7\" style=\"height: 12px;\"></td></tr><tr><td class=\"footer\" colspan=\"7\"><span class=\"label\">Categoría:\n",
       "                </span><span class=\"value\">RV Global Cap. Grande Blend</span></td></tr><tr><td class=\"footer\" colspan=\"7\"><span class=\"label\">Benchmark de la Categoría:\n",
       "                </span><span class=\"value\" title=\"MSCI ACWI NR USD\">MSCI ACWI NR USD</span></td></tr></table></div>"
      ]
     },
     "execution_count": 11,
     "metadata": {},
     "output_type": "execute_result"
    }
   ],
   "source": [
    "divs"
   ]
  },
  {
   "cell_type": "code",
   "execution_count": 12,
   "id": "c6b2d8c0-efba-4df5-96e3-6f794d891c88",
   "metadata": {},
   "outputs": [
    {
     "name": "stdout",
     "output_type": "stream",
     "text": [
      "row\n",
      "data:  \n",
      "data:  Fondo\n",
      "data:  6,6\n",
      "data:  -0,6\n",
      "data:  29,5\n",
      "data:  2,1\n",
      "data:  26,5\n",
      "row\n",
      "data:  \n",
      "data:  +/-Cat\n",
      "data:  -1,6\n",
      "data:  7,1\n",
      "data:  3,4\n",
      "data:  -2,6\n",
      "data:  4,5\n",
      "row\n",
      "data:  \n",
      "data:  +/-Ind\n",
      "data:  -2,3\n",
      "data:  4,3\n",
      "data:  0,6\n",
      "data:  -4,5\n",
      "data:  2,6\n",
      "row\n",
      "data:   \n",
      "row\n",
      "data:  \n",
      "row\n",
      "data:  Categoría:\n",
      "                RV Global Cap. Grande Blend\n",
      "row\n",
      "data:  Benchmark de la Categoría:\n",
      "                MSCI ACWI NR USD\n"
     ]
    }
   ],
   "source": [
    "for child in divs.table.children:\n",
    "    print(\"row\")\n",
    "    for td in child:\n",
    "        print(\"data: \",td.text)\n",
    "    "
   ]
  },
  {
   "cell_type": "code",
   "execution_count": 13,
   "id": "f4540474-621a-4381-9822-92937fd2b8a1",
   "metadata": {},
   "outputs": [
    {
     "data": {
      "text/plain": [
       "'Fondo6,6-0,629,52,126,5'"
      ]
     },
     "execution_count": 13,
     "metadata": {},
     "output_type": "execute_result"
    }
   ],
   "source": [
    "divs.table.tr.text"
   ]
  },
  {
   "cell_type": "code",
   "execution_count": 14,
   "id": "b7520d4c-66ca-413e-9583-8bde7c59ccc1",
   "metadata": {},
   "outputs": [
    {
     "name": "stdout",
     "output_type": "stream",
     "text": [
      "row\n",
      "data:  \n",
      "data:  +/-Cat\n",
      "data:  -1,6\n",
      "data:  7,1\n",
      "data:  3,4\n",
      "data:  -2,6\n",
      "data:  4,5\n",
      "row\n",
      "data:  \n",
      "data:  +/-Ind\n",
      "data:  -2,3\n",
      "data:  4,3\n",
      "data:  0,6\n",
      "data:  -4,5\n",
      "data:  2,6\n",
      "row\n",
      "data:   \n",
      "row\n",
      "data:  \n",
      "row\n",
      "data:  Categoría:\n",
      "                RV Global Cap. Grande Blend\n",
      "row\n",
      "data:  Benchmark de la Categoría:\n",
      "                MSCI ACWI NR USD\n"
     ]
    }
   ],
   "source": [
    "for row in divs.table.tr.next_siblings:\n",
    "    print(\"row\")\n",
    "    for data in row:\n",
    "        print(\"data: \",data.text)"
   ]
  },
  {
   "cell_type": "code",
   "execution_count": 15,
   "id": "40ad99b1-c8ce-4eda-8dcb-353793eb9b49",
   "metadata": {},
   "outputs": [],
   "source": [
    "rows=divs.find_all(\"tr\")"
   ]
  },
  {
   "cell_type": "code",
   "execution_count": 16,
   "id": "b25b308a-cfcd-4cfb-9750-d61102b7718b",
   "metadata": {},
   "outputs": [
    {
     "data": {
      "text/plain": [
       "bs4.element.ResultSet"
      ]
     },
     "execution_count": 16,
     "metadata": {},
     "output_type": "execute_result"
    }
   ],
   "source": [
    "type(rows)"
   ]
  },
  {
   "cell_type": "code",
   "execution_count": 17,
   "id": "9fde9d77-048f-4099-8dfc-a81182ebd22d",
   "metadata": {},
   "outputs": [
    {
     "data": {
      "text/plain": [
       "7"
      ]
     },
     "execution_count": 17,
     "metadata": {},
     "output_type": "execute_result"
    }
   ],
   "source": [
    "len(rows)"
   ]
  },
  {
   "cell_type": "code",
   "execution_count": 18,
   "id": "4b173f5b-c078-4731-9337-ad56fb98ec2a",
   "metadata": {},
   "outputs": [
    {
     "data": {
      "text/plain": [
       "<tr><td class=\"col1\"><img alt=\"\" class=\"iconList\" src=\"/includes/images/iconListSmall.gif\" style=\"background-color:#CE0000\"/></td><td class=\"col2 label\">Fondo</td><td class=\"col3 value number\">6,6</td><td class=\"col4 value number\">-0,6</td><td class=\"col5 value number\">29,5</td><td class=\"col6 value number\">2,1</td><td class=\"col7 value number\">26,5</td></tr>"
      ]
     },
     "execution_count": 18,
     "metadata": {},
     "output_type": "execute_result"
    }
   ],
   "source": [
    "rows[0]"
   ]
  },
  {
   "cell_type": "code",
   "execution_count": 19,
   "id": "ba193692-d4f2-4e61-b1e6-c391f7c7c9c9",
   "metadata": {},
   "outputs": [
    {
     "data": {
      "text/plain": [
       "<tr><td class=\"col1\"><img alt=\"\" class=\"iconList\" src=\"/includes/images/iconListSmall.gif\" style=\"background-color:#FF9A63\"/></td><td class=\"col2 label\">+/-Cat</td><td class=\"col3 value number\">-1,6</td><td class=\"col4 value number\">7,1</td><td class=\"col5 value number\">3,4</td><td class=\"col6 value number\">-2,6</td><td class=\"col7 value number\">4,5</td></tr>"
      ]
     },
     "execution_count": 19,
     "metadata": {},
     "output_type": "execute_result"
    }
   ],
   "source": [
    "rows[1]"
   ]
  },
  {
   "cell_type": "code",
   "execution_count": 20,
   "id": "541275ae-e3fc-4c56-b302-3a2c374b0da2",
   "metadata": {},
   "outputs": [
    {
     "data": {
      "text/plain": [
       "'Fondo6,6-0,629,52,126,5'"
      ]
     },
     "execution_count": 20,
     "metadata": {},
     "output_type": "execute_result"
    }
   ],
   "source": [
    "rows[0].text"
   ]
  },
  {
   "cell_type": "code",
   "execution_count": 21,
   "id": "ac3b08e4-3138-4fe6-ac73-bddbbf48be8e",
   "metadata": {},
   "outputs": [
    {
     "name": "stdout",
     "output_type": "stream",
     "text": [
      "row\n",
      "data:  \n",
      "data:  Fondo\n",
      "data:  6,6\n",
      "data:  -0,6\n",
      "data:  29,5\n",
      "data:  2,1\n",
      "data:  26,5\n",
      "row\n",
      "data:  \n",
      "data:  +/-Cat\n",
      "data:  -1,6\n",
      "data:  7,1\n",
      "data:  3,4\n",
      "data:  -2,6\n",
      "data:  4,5\n",
      "row\n",
      "data:  \n",
      "data:  +/-Ind\n",
      "data:  -2,3\n",
      "data:  4,3\n",
      "data:  0,6\n",
      "data:  -4,5\n",
      "data:  2,6\n",
      "row\n",
      "data:   \n",
      "row\n",
      "data:  \n",
      "row\n",
      "data:  Categoría:\n",
      "                RV Global Cap. Grande Blend\n",
      "row\n",
      "data:  Benchmark de la Categoría:\n",
      "                MSCI ACWI NR USD\n"
     ]
    }
   ],
   "source": [
    "for row in rows:\n",
    "    print(\"row\")\n",
    "    for dato in row:\n",
    "        print(\"data: \",dato.text)"
   ]
  },
  {
   "cell_type": "code",
   "execution_count": 22,
   "id": "9e0e428e-5be4-45fd-ad5b-a0e87f979f05",
   "metadata": {},
   "outputs": [],
   "source": [
    "badurl=\"https://www.morningstar.es/es/funds/snapshot/snapshot.aspx?id=F0060D\""
   ]
  },
  {
   "cell_type": "code",
   "execution_count": 23,
   "id": "31f58cd3-4b63-4402-926c-1fd106d9e983",
   "metadata": {},
   "outputs": [
    {
     "name": "stdout",
     "output_type": "stream",
     "text": [
      "<Response [404]>\n"
     ]
    }
   ],
   "source": [
    "r2 = requests.get(badurl)\n",
    "print(r2)"
   ]
  },
  {
   "cell_type": "code",
   "execution_count": 24,
   "id": "e9e99e36-d198-46a3-afe5-cdb1af37ae02",
   "metadata": {},
   "outputs": [
    {
     "data": {
      "text/plain": [
       "['__attrs__',\n",
       " '__bool__',\n",
       " '__class__',\n",
       " '__delattr__',\n",
       " '__dict__',\n",
       " '__dir__',\n",
       " '__doc__',\n",
       " '__enter__',\n",
       " '__eq__',\n",
       " '__exit__',\n",
       " '__format__',\n",
       " '__ge__',\n",
       " '__getattribute__',\n",
       " '__getstate__',\n",
       " '__gt__',\n",
       " '__hash__',\n",
       " '__init__',\n",
       " '__init_subclass__',\n",
       " '__iter__',\n",
       " '__le__',\n",
       " '__lt__',\n",
       " '__module__',\n",
       " '__ne__',\n",
       " '__new__',\n",
       " '__nonzero__',\n",
       " '__reduce__',\n",
       " '__reduce_ex__',\n",
       " '__repr__',\n",
       " '__setattr__',\n",
       " '__setstate__',\n",
       " '__sizeof__',\n",
       " '__str__',\n",
       " '__subclasshook__',\n",
       " '__weakref__',\n",
       " '_content',\n",
       " '_content_consumed',\n",
       " '_next',\n",
       " 'apparent_encoding',\n",
       " 'close',\n",
       " 'connection',\n",
       " 'content',\n",
       " 'cookies',\n",
       " 'elapsed',\n",
       " 'encoding',\n",
       " 'headers',\n",
       " 'history',\n",
       " 'is_permanent_redirect',\n",
       " 'is_redirect',\n",
       " 'iter_content',\n",
       " 'iter_lines',\n",
       " 'json',\n",
       " 'links',\n",
       " 'next',\n",
       " 'ok',\n",
       " 'raise_for_status',\n",
       " 'raw',\n",
       " 'reason',\n",
       " 'request',\n",
       " 'status_code',\n",
       " 'text',\n",
       " 'url']"
      ]
     },
     "execution_count": 24,
     "metadata": {},
     "output_type": "execute_result"
    }
   ],
   "source": [
    "dir(r2)"
   ]
  },
  {
   "cell_type": "code",
   "execution_count": 25,
   "id": "bc41f101-e4fa-4b1f-957a-7310972d141a",
   "metadata": {},
   "outputs": [
    {
     "data": {
      "text/plain": [
       "False"
      ]
     },
     "execution_count": 25,
     "metadata": {},
     "output_type": "execute_result"
    }
   ],
   "source": [
    "r2.ok"
   ]
  },
  {
   "cell_type": "code",
   "execution_count": 47,
   "id": "3f24c4e1-d576-435a-83ad-2140f2f63ca9",
   "metadata": {},
   "outputs": [],
   "source": [
    "url2=\"https://es.investing.com/funds/lu1774149998-historical-data\""
   ]
  },
  {
   "cell_type": "code",
   "execution_count": 48,
   "id": "4a3478db-5529-4fc5-a093-0ff3b211b165",
   "metadata": {},
   "outputs": [],
   "source": [
    "headers = {\n",
    "    'User-Agent': 'Mozilla/5.0 (X11; Ubuntu; Linux x86_64; rv:81.0) Gecko/20100101 Firefox/81.0',\n",
    "    'X-Requested-With': 'XMLHttpRequest',\n",
    "    'Referer': 'https://es.investing.com/funds/lu1774149998'}"
   ]
  },
  {
   "cell_type": "code",
   "execution_count": 49,
   "id": "ebf5bad6-499d-4acc-af66-49d7ec10a928",
   "metadata": {},
   "outputs": [
    {
     "name": "stdout",
     "output_type": "stream",
     "text": [
      "<Response [200]>\n"
     ]
    }
   ],
   "source": [
    "r3 = requests.get(url2, headers=headers)\n",
    "print(r3)"
   ]
  },
  {
   "cell_type": "code",
   "execution_count": 50,
   "id": "ddd2ff96-1278-4316-862c-1d2545fa9e98",
   "metadata": {},
   "outputs": [
    {
     "data": {
      "text/plain": [
       "True"
      ]
     },
     "execution_count": 50,
     "metadata": {},
     "output_type": "execute_result"
    }
   ],
   "source": [
    "r3.ok"
   ]
  },
  {
   "cell_type": "code",
   "execution_count": 52,
   "id": "1fc3a88a-6939-4802-92b2-61a848bf56c5",
   "metadata": {},
   "outputs": [],
   "source": [
    "soup = BeautifulSoup(r3.text, 'lxml')"
   ]
  },
  {
   "cell_type": "code",
   "execution_count": 53,
   "id": "3e0c9eb9-08fa-44fe-8f5c-8f39b2ddbebb",
   "metadata": {},
   "outputs": [],
   "source": [
    "tabla = soup.find(\"table\", {\"id\": \"curr_table\"})"
   ]
  },
  {
   "cell_type": "code",
   "execution_count": 56,
   "id": "3e11d355-054f-4678-82d6-a1a0cef69eb3",
   "metadata": {},
   "outputs": [],
   "source": [
    "rows=tabla.find_all(\"tr\")"
   ]
  },
  {
   "cell_type": "code",
   "execution_count": 63,
   "id": "af37dc89-6eaa-409c-8cc1-c3140b240e5a",
   "metadata": {},
   "outputs": [
    {
     "data": {
      "text/plain": [
       "<tr>\n",
       "<td class=\"first left bold noWrap\" data-real-value=\"1640908800\">31.12.2021</td>\n",
       "<td class=\"redFont\" data-real-value=\"178,950\">178,950</td>\n",
       "<td data-real-value=\"178,950\">178,950</td>\n",
       "<td data-real-value=\"178,950\">178,950</td>\n",
       "<td data-real-value=\"178,950\">178,950</td>\n",
       "<td class=\"bold redFont\">-0,33%</td>\n",
       "</tr>"
      ]
     },
     "execution_count": 63,
     "metadata": {},
     "output_type": "execute_result"
    }
   ],
   "source": [
    "rows[1]"
   ]
  },
  {
   "cell_type": "code",
   "execution_count": 72,
   "id": "7ee62a3d-1c9e-4da0-9dba-7eebad40705d",
   "metadata": {},
   "outputs": [],
   "source": [
    "datos = []\n",
    "for element in rows:\n",
    "    row=[]\n",
    "    for data in element:\n",
    "        row.append(data.text.replace(\"\\n\",\"\"))\n",
    "    datos.append(row)\n",
    "        "
   ]
  },
  {
   "cell_type": "code",
   "execution_count": 80,
   "id": "bfcbcec6-cf28-469f-88fe-91d3667248f5",
   "metadata": {},
   "outputs": [],
   "source": [
    "for fila in datos:\n",
    "    fila.remove(\"\")"
   ]
  },
  {
   "cell_type": "code",
   "execution_count": 70,
   "id": "5cc08c95-a478-45ed-b2c9-f21f10d63598",
   "metadata": {},
   "outputs": [],
   "source": [
    "datos = []\n",
    "for elementos in tabla.children:\n",
    "    row=[]\n",
    "    for data in element:\n",
    "        row.append(data.text.replace(\"\\n\",\"\"))\n",
    "    datos.append(row)\n",
    "        "
   ]
  },
  {
   "cell_type": "code",
   "execution_count": 71,
   "id": "88eb2ee2-d31e-4d42-8a1d-23f6764ed020",
   "metadata": {},
   "outputs": [
    {
     "data": {
      "text/plain": [
       "[['',\n",
       "  '02.12.2021',\n",
       "  '',\n",
       "  '171,340',\n",
       "  '',\n",
       "  '171,340',\n",
       "  '',\n",
       "  '171,340',\n",
       "  '',\n",
       "  '171,340',\n",
       "  '',\n",
       "  '1,18%',\n",
       "  ''],\n",
       " ['',\n",
       "  '02.12.2021',\n",
       "  '',\n",
       "  '171,340',\n",
       "  '',\n",
       "  '171,340',\n",
       "  '',\n",
       "  '171,340',\n",
       "  '',\n",
       "  '171,340',\n",
       "  '',\n",
       "  '1,18%',\n",
       "  ''],\n",
       " ['',\n",
       "  '02.12.2021',\n",
       "  '',\n",
       "  '171,340',\n",
       "  '',\n",
       "  '171,340',\n",
       "  '',\n",
       "  '171,340',\n",
       "  '',\n",
       "  '171,340',\n",
       "  '',\n",
       "  '1,18%',\n",
       "  ''],\n",
       " ['',\n",
       "  '02.12.2021',\n",
       "  '',\n",
       "  '171,340',\n",
       "  '',\n",
       "  '171,340',\n",
       "  '',\n",
       "  '171,340',\n",
       "  '',\n",
       "  '171,340',\n",
       "  '',\n",
       "  '1,18%',\n",
       "  ''],\n",
       " ['',\n",
       "  '02.12.2021',\n",
       "  '',\n",
       "  '171,340',\n",
       "  '',\n",
       "  '171,340',\n",
       "  '',\n",
       "  '171,340',\n",
       "  '',\n",
       "  '171,340',\n",
       "  '',\n",
       "  '1,18%',\n",
       "  '']]"
      ]
     },
     "execution_count": 71,
     "metadata": {},
     "output_type": "execute_result"
    }
   ],
   "source": [
    "datos"
   ]
  },
  {
   "cell_type": "code",
   "execution_count": null,
   "id": "b1e4635a-8ac7-40a2-9966-5343d53b1abe",
   "metadata": {},
   "outputs": [],
   "source": []
  }
 ],
 "metadata": {
  "kernelspec": {
   "display_name": "Python 3 (ipykernel)",
   "language": "python",
   "name": "python3"
  },
  "language_info": {
   "codemirror_mode": {
    "name": "ipython",
    "version": 3
   },
   "file_extension": ".py",
   "mimetype": "text/x-python",
   "name": "python",
   "nbconvert_exporter": "python",
   "pygments_lexer": "ipython3",
   "version": "3.7.12"
  }
 },
 "nbformat": 4,
 "nbformat_minor": 5
}
