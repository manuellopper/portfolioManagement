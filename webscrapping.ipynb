{
 "cells": [
  {
   "cell_type": "markdown",
   "id": "cbd020ad-2f6d-45a0-bf25-fd4956e72700",
   "metadata": {},
   "source": [
    "pip install beautifulsoup4 (versión 4.10.0 )\n",
    "pip install lxml (versión 4.7.1 )"
   ]
  },
  {
   "cell_type": "code",
   "execution_count": 1,
   "id": "7ab7e998-aa4b-44f6-b1e7-c8e3b2088e50",
   "metadata": {},
   "outputs": [],
   "source": [
    "import requests\n",
    "from bs4 import BeautifulSoup"
   ]
  },
  {
   "cell_type": "code",
   "execution_count": 2,
   "id": "2dd785cb-0e4b-4759-9b82-6543f1298790",
   "metadata": {},
   "outputs": [],
   "source": [
    "url=\"https://www.morningstar.es/es/funds/snapshot/snapshot.aspx?id=F00001060D\""
   ]
  },
  {
   "cell_type": "code",
   "execution_count": 4,
   "id": "c1617825-4226-4cc1-8cf7-da0191232c44",
   "metadata": {},
   "outputs": [],
   "source": [
    "r = requests.get(url)"
   ]
  },
  {
   "cell_type": "code",
   "execution_count": 5,
   "id": "a24a3831-74a3-4a1b-962d-da7882d38883",
   "metadata": {},
   "outputs": [
    {
     "data": {
      "text/plain": [
       "requests.models.Response"
      ]
     },
     "execution_count": 5,
     "metadata": {},
     "output_type": "execute_result"
    }
   ],
   "source": [
    "type(r)"
   ]
  },
  {
   "cell_type": "code",
   "execution_count": 6,
   "id": "71fd7c73-db04-4793-b436-4a4183727d2b",
   "metadata": {},
   "outputs": [
    {
     "name": "stdout",
     "output_type": "stream",
     "text": [
      "<Response [200]>\n"
     ]
    }
   ],
   "source": [
    "print(r)"
   ]
  },
  {
   "cell_type": "code",
   "execution_count": 7,
   "id": "8582a452-f973-4e7f-adb5-56de5dc284c3",
   "metadata": {},
   "outputs": [],
   "source": [
    "soup = BeautifulSoup(r.text, 'lxml')"
   ]
  },
  {
   "cell_type": "code",
   "execution_count": 8,
   "id": "e1335ff4-1e53-4e83-ad3e-a73dd122cec0",
   "metadata": {},
   "outputs": [
    {
     "data": {
      "text/plain": [
       "bs4.BeautifulSoup"
      ]
     },
     "execution_count": 8,
     "metadata": {},
     "output_type": "execute_result"
    }
   ],
   "source": [
    "type(soup)"
   ]
  },
  {
   "cell_type": "code",
   "execution_count": 9,
   "id": "7f8a68e1-09d2-4f34-bfff-032cb8d5a3a7",
   "metadata": {},
   "outputs": [
    {
     "data": {
      "text/plain": [
       "['ASCII_SPACES',\n",
       " 'DEFAULT_BUILDER_FEATURES',\n",
       " 'DEFAULT_INTERESTING_STRING_TYPES',\n",
       " 'NO_PARSER_SPECIFIED_WARNING',\n",
       " 'ROOT_TAG_NAME',\n",
       " '__bool__',\n",
       " '__call__',\n",
       " '__class__',\n",
       " '__contains__',\n",
       " '__copy__',\n",
       " '__delattr__',\n",
       " '__delitem__',\n",
       " '__dict__',\n",
       " '__dir__',\n",
       " '__doc__',\n",
       " '__eq__',\n",
       " '__format__',\n",
       " '__ge__',\n",
       " '__getattr__',\n",
       " '__getattribute__',\n",
       " '__getitem__',\n",
       " '__getstate__',\n",
       " '__gt__',\n",
       " '__hash__',\n",
       " '__init__',\n",
       " '__init_subclass__',\n",
       " '__iter__',\n",
       " '__le__',\n",
       " '__len__',\n",
       " '__lt__',\n",
       " '__module__',\n",
       " '__ne__',\n",
       " '__new__',\n",
       " '__reduce__',\n",
       " '__reduce_ex__',\n",
       " '__repr__',\n",
       " '__setattr__',\n",
       " '__setitem__',\n",
       " '__sizeof__',\n",
       " '__str__',\n",
       " '__subclasshook__',\n",
       " '__unicode__',\n",
       " '__weakref__',\n",
       " '_all_strings',\n",
       " '_check_markup_is_url',\n",
       " '_decode_markup',\n",
       " '_feed',\n",
       " '_find_all',\n",
       " '_find_one',\n",
       " '_is_xml',\n",
       " '_lastRecursiveChild',\n",
       " '_last_descendant',\n",
       " '_linkage_fixer',\n",
       " '_most_recent_element',\n",
       " '_namespaces',\n",
       " '_popToTag',\n",
       " '_should_pretty_print',\n",
       " 'append',\n",
       " 'attrs',\n",
       " 'builder',\n",
       " 'can_be_empty_element',\n",
       " 'cdata_list_attributes',\n",
       " 'childGenerator',\n",
       " 'children',\n",
       " 'clear',\n",
       " 'contains_replacement_characters',\n",
       " 'contents',\n",
       " 'currentTag',\n",
       " 'current_data',\n",
       " 'declared_html_encoding',\n",
       " 'decode',\n",
       " 'decode_contents',\n",
       " 'decompose',\n",
       " 'decomposed',\n",
       " 'default',\n",
       " 'descendants',\n",
       " 'element_classes',\n",
       " 'encode',\n",
       " 'encode_contents',\n",
       " 'endData',\n",
       " 'extend',\n",
       " 'extract',\n",
       " 'fetchNextSiblings',\n",
       " 'fetchParents',\n",
       " 'fetchPrevious',\n",
       " 'fetchPreviousSiblings',\n",
       " 'find',\n",
       " 'findAll',\n",
       " 'findAllNext',\n",
       " 'findAllPrevious',\n",
       " 'findChild',\n",
       " 'findChildren',\n",
       " 'findNext',\n",
       " 'findNextSibling',\n",
       " 'findNextSiblings',\n",
       " 'findParent',\n",
       " 'findParents',\n",
       " 'findPrevious',\n",
       " 'findPreviousSibling',\n",
       " 'findPreviousSiblings',\n",
       " 'find_all',\n",
       " 'find_all_next',\n",
       " 'find_all_previous',\n",
       " 'find_next',\n",
       " 'find_next_sibling',\n",
       " 'find_next_siblings',\n",
       " 'find_parent',\n",
       " 'find_parents',\n",
       " 'find_previous',\n",
       " 'find_previous_sibling',\n",
       " 'find_previous_siblings',\n",
       " 'format_string',\n",
       " 'formatter_for_name',\n",
       " 'get',\n",
       " 'getText',\n",
       " 'get_attribute_list',\n",
       " 'get_text',\n",
       " 'handle_data',\n",
       " 'handle_endtag',\n",
       " 'handle_starttag',\n",
       " 'has_attr',\n",
       " 'has_key',\n",
       " 'hidden',\n",
       " 'index',\n",
       " 'insert',\n",
       " 'insert_after',\n",
       " 'insert_before',\n",
       " 'interesting_string_types',\n",
       " 'isSelfClosing',\n",
       " 'is_empty_element',\n",
       " 'is_xml',\n",
       " 'known_xml',\n",
       " 'markup',\n",
       " 'name',\n",
       " 'namespace',\n",
       " 'new_string',\n",
       " 'new_tag',\n",
       " 'next',\n",
       " 'nextGenerator',\n",
       " 'nextSibling',\n",
       " 'nextSiblingGenerator',\n",
       " 'next_element',\n",
       " 'next_elements',\n",
       " 'next_sibling',\n",
       " 'next_siblings',\n",
       " 'object_was_parsed',\n",
       " 'open_tag_counter',\n",
       " 'original_encoding',\n",
       " 'parent',\n",
       " 'parentGenerator',\n",
       " 'parents',\n",
       " 'parse_only',\n",
       " 'parserClass',\n",
       " 'parser_class',\n",
       " 'popTag',\n",
       " 'prefix',\n",
       " 'preserve_whitespace_tag_stack',\n",
       " 'preserve_whitespace_tags',\n",
       " 'prettify',\n",
       " 'previous',\n",
       " 'previousGenerator',\n",
       " 'previousSibling',\n",
       " 'previousSiblingGenerator',\n",
       " 'previous_element',\n",
       " 'previous_elements',\n",
       " 'previous_sibling',\n",
       " 'previous_siblings',\n",
       " 'pushTag',\n",
       " 'recursiveChildGenerator',\n",
       " 'renderContents',\n",
       " 'replaceWith',\n",
       " 'replaceWithChildren',\n",
       " 'replace_with',\n",
       " 'replace_with_children',\n",
       " 'reset',\n",
       " 'select',\n",
       " 'select_one',\n",
       " 'setup',\n",
       " 'smooth',\n",
       " 'string',\n",
       " 'string_container',\n",
       " 'string_container_stack',\n",
       " 'strings',\n",
       " 'stripped_strings',\n",
       " 'tagStack',\n",
       " 'text',\n",
       " 'unwrap',\n",
       " 'wrap']"
      ]
     },
     "execution_count": 9,
     "metadata": {},
     "output_type": "execute_result"
    }
   ],
   "source": [
    "dir(soup)"
   ]
  },
  {
   "cell_type": "code",
   "execution_count": 14,
   "id": "e5c14037-5959-48f7-a566-bcb7dd5df342",
   "metadata": {},
   "outputs": [],
   "source": [
    "divs=soup.find(\"div\", {\"id\": \"overviewCalenderYearReturnsDiv\"})"
   ]
  },
  {
   "cell_type": "code",
   "execution_count": 15,
   "id": "1177d561-e474-4e8c-a50c-eceb6db114c8",
   "metadata": {},
   "outputs": [
    {
     "data": {
      "text/plain": [
       "<div id=\"overviewCalenderYearReturnsDiv\"><table border=\"0\" class=\"snapshotTextColor snapshotTextFontStyle snapshotTable overviewCalenderYearReturnsTable\"><tr><td class=\"col1\"><img alt=\"\" class=\"iconList\" src=\"/includes/images/iconListSmall.gif\" style=\"background-color:#CE0000\"/></td><td class=\"col2 label\">Fondo</td><td class=\"col3 value number\">6,6</td><td class=\"col4 value number\">-0,6</td><td class=\"col5 value number\">29,5</td><td class=\"col6 value number\">2,1</td><td class=\"col7 value number\">26,5</td></tr><tr><td class=\"col1\"><img alt=\"\" class=\"iconList\" src=\"/includes/images/iconListSmall.gif\" style=\"background-color:#FF9A63\"/></td><td class=\"col2 label\">+/-Cat</td><td class=\"col3 value number\">-1,6</td><td class=\"col4 value number\">7,1</td><td class=\"col5 value number\">3,4</td><td class=\"col6 value number\">-2,6</td><td class=\"col7 value number\">4,5</td></tr><tr><td class=\"col1\"><img alt=\"\" class=\"iconList\" src=\"/includes/images/iconListSmall.gif\" style=\"background-color:#99CF00\"/></td><td class=\"col2 label\" nowrap=\"\" style=\"white-space: nowrap ! important\">+/-Ind</td><td class=\"col3 value number\">-2,3</td><td class=\"col4 value number\">4,3</td><td class=\"col5 value number\">0,6</td><td class=\"col6 value number\">-4,5</td><td class=\"col7 value number\">2,6</td></tr><tr><td class=\"spacer\" colspan=\"7\"> </td></tr><tr><td class=\"line\" colspan=\"7\" style=\"height: 12px;\"></td></tr><tr><td class=\"footer\" colspan=\"7\"><span class=\"label\">Categoría:\n",
       "                </span><span class=\"value\">RV Global Cap. Grande Blend</span></td></tr><tr><td class=\"footer\" colspan=\"7\"><span class=\"label\">Benchmark de la Categoría:\n",
       "                </span><span class=\"value\" title=\"MSCI ACWI NR USD\">MSCI ACWI NR USD</span></td></tr></table></div>"
      ]
     },
     "execution_count": 15,
     "metadata": {},
     "output_type": "execute_result"
    }
   ],
   "source": [
    "divs"
   ]
  },
  {
   "cell_type": "code",
   "execution_count": null,
   "id": "c6b2d8c0-efba-4df5-96e3-6f794d891c88",
   "metadata": {},
   "outputs": [],
   "source": []
  }
 ],
 "metadata": {
  "kernelspec": {
   "display_name": "Python 3 (ipykernel)",
   "language": "python",
   "name": "python3"
  },
  "language_info": {
   "codemirror_mode": {
    "name": "ipython",
    "version": 3
   },
   "file_extension": ".py",
   "mimetype": "text/x-python",
   "name": "python",
   "nbconvert_exporter": "python",
   "pygments_lexer": "ipython3",
   "version": "3.7.12"
  }
 },
 "nbformat": 4,
 "nbformat_minor": 5
}
